{
 "cells": [
  {
   "cell_type": "code",
   "execution_count": 16,
   "id": "initial_id",
   "metadata": {
    "collapsed": true,
    "ExecuteTime": {
     "end_time": "2023-09-07T12:30:53.239566900Z",
     "start_time": "2023-09-07T12:30:53.230036300Z"
    }
   },
   "outputs": [],
   "source": [
    "import pandas as pd\n",
    "from bs4 import BeautifulSoup\n",
    "from selenium import webdriver\n",
    "from selenium.webdriver.support.ui import Select\n",
    "from webdriver_manager.chrome import ChromeDriverManager\n",
    "import time"
   ]
  },
  {
   "cell_type": "code",
   "execution_count": 17,
   "outputs": [],
   "source": [
    "from selenium import webdriver\n",
    "from webdriver_manager.chrome import ChromeDriverManager"
   ],
   "metadata": {
    "collapsed": false,
    "ExecuteTime": {
     "end_time": "2023-09-07T12:30:53.651717500Z",
     "start_time": "2023-09-07T12:30:53.650710Z"
    }
   },
   "id": "5103a8087500aa0c"
  },
  {
   "cell_type": "code",
   "execution_count": 18,
   "outputs": [],
   "source": [
    "from selenium import webdriver\n",
    "from selenium.webdriver.chrome.service import Service\n",
    "service = Service(executable_path = \"chromedriver\")"
   ],
   "metadata": {
    "collapsed": false,
    "ExecuteTime": {
     "end_time": "2023-09-07T12:30:53.995278600Z",
     "start_time": "2023-09-07T12:30:53.987241Z"
    }
   },
   "id": "d41560753aeafeb0"
  },
  {
   "cell_type": "code",
   "execution_count": 69,
   "outputs": [],
   "source": [
    "driver = webdriver.Chrome()"
   ],
   "metadata": {
    "collapsed": false,
    "ExecuteTime": {
     "end_time": "2023-09-07T12:43:05.056096800Z",
     "start_time": "2023-09-07T12:43:03.383316700Z"
    }
   },
   "id": "3a3856b7104a0263"
  },
  {
   "cell_type": "code",
   "execution_count": 70,
   "outputs": [],
   "source": [
    "driver.get(\"https://structurednotes-announce.tdcc.com.tw/Snoteanc/\")"
   ],
   "metadata": {
    "collapsed": false,
    "ExecuteTime": {
     "end_time": "2023-09-07T12:43:11.729848400Z",
     "start_time": "2023-09-07T12:43:11.357846100Z"
    }
   },
   "id": "f10aebb16df4fd91"
  },
  {
   "cell_type": "code",
   "execution_count": 71,
   "outputs": [],
   "source": [
    "source = driver.page_source\n",
    "soup = BeautifulSoup(source, 'html.parser')"
   ],
   "metadata": {
    "collapsed": false,
    "ExecuteTime": {
     "end_time": "2023-09-07T12:43:12.760949Z",
     "start_time": "2023-09-07T12:43:12.737489500Z"
    }
   },
   "id": "33f782232d036f6d"
  },
  {
   "cell_type": "code",
   "execution_count": 72,
   "outputs": [],
   "source": [
    "driver.switch_to.frame(\"Menu\")"
   ],
   "metadata": {
    "collapsed": false,
    "ExecuteTime": {
     "end_time": "2023-09-07T12:43:13.669571900Z",
     "start_time": "2023-09-07T12:43:13.637036800Z"
    }
   },
   "id": "6e512100c0f69d4b"
  },
  {
   "cell_type": "code",
   "execution_count": 73,
   "outputs": [],
   "source": [
    "from selenium.webdriver.common.by import By\n",
    "element = driver.find_element(By.XPATH, \"/html/body/table/tbody/tr[4]/td/a/img\")\n",
    "element.click()"
   ],
   "metadata": {
    "collapsed": false,
    "ExecuteTime": {
     "end_time": "2023-09-07T12:43:14.231603Z",
     "start_time": "2023-09-07T12:43:14.171173100Z"
    }
   },
   "id": "d80fd278a66f3b34"
  },
  {
   "cell_type": "code",
   "execution_count": 74,
   "outputs": [],
   "source": [
    "driver.switch_to.default_content()"
   ],
   "metadata": {
    "collapsed": false,
    "ExecuteTime": {
     "end_time": "2023-09-07T12:43:14.851635200Z",
     "start_time": "2023-09-07T12:43:14.841917Z"
    }
   },
   "id": "cd4a3e1144a3e228"
  },
  {
   "cell_type": "code",
   "execution_count": 75,
   "outputs": [],
   "source": [
    "source_2 = driver.page_source\n",
    "soup_2 = BeautifulSoup(source_2, 'html.parser')"
   ],
   "metadata": {
    "collapsed": false,
    "ExecuteTime": {
     "end_time": "2023-09-07T12:43:15.808969700Z",
     "start_time": "2023-09-07T12:43:15.783042300Z"
    }
   },
   "id": "e230d852cfa6cf1b"
  },
  {
   "cell_type": "code",
   "execution_count": 76,
   "outputs": [],
   "source": [
    "driver.switch_to.frame(\"mainFrame\")"
   ],
   "metadata": {
    "collapsed": false,
    "ExecuteTime": {
     "end_time": "2023-09-07T12:43:16.746758400Z",
     "start_time": "2023-09-07T12:43:16.720448600Z"
    }
   },
   "id": "89175d1c8777adaa"
  },
  {
   "cell_type": "code",
   "execution_count": 77,
   "outputs": [],
   "source": [
    "select_institution = Select(driver.find_element(By.XPATH,\n",
    "                                        \"/html/body/form/table/tbody/tr[5]/td[2]/table/tbody/tr[3]/td[2]/div/select\"))"
   ],
   "metadata": {
    "collapsed": false,
    "ExecuteTime": {
     "end_time": "2023-09-07T12:43:17.488822400Z",
     "start_time": "2023-09-07T12:43:17.471493100Z"
    }
   },
   "id": "7a18c5dae0091ce0"
  },
  {
   "cell_type": "code",
   "execution_count": 78,
   "outputs": [],
   "source": [
    "select_institution.select_by_value(\"50d2d3aa:13e906cdbb7:-769a\")"
   ],
   "metadata": {
    "collapsed": false,
    "ExecuteTime": {
     "end_time": "2023-09-07T12:43:18.209122300Z",
     "start_time": "2023-09-07T12:43:18.168526Z"
    }
   },
   "id": "392b53dd2656d1e4"
  },
  {
   "cell_type": "code",
   "execution_count": 79,
   "outputs": [],
   "source": [
    "element_2 = driver.find_element(By.XPATH, \"/html/body/form/table/tbody/tr[5]/td[2]/table/tbody/tr[10]/td/input\")\n",
    "element_2.click()"
   ],
   "metadata": {
    "collapsed": false,
    "ExecuteTime": {
     "end_time": "2023-09-07T12:43:22.421604900Z",
     "start_time": "2023-09-07T12:43:18.767733900Z"
    }
   },
   "id": "3c57d8313d53b20b"
  },
  {
   "cell_type": "code",
   "execution_count": 80,
   "outputs": [],
   "source": [
    "start_index = 3\n",
    "end_index = 52\n",
    "\n",
    "# 儲存所需要的英文資料列表\n",
    "data_list = []\n",
    "\n",
    "\n",
    "for i in range(start_index, end_index + 1):\n",
    "    # 建構 XPath 的表達式\n",
    "    xpath_expression = f\"/html/body/form/table/tbody/tr[7]/td[2]/table/tbody/tr[{i}]/td[2]/font/u\"\n",
    "    \n",
    "    # 點擊該元素\n",
    "    element = driver.find_element(By.XPATH, xpath_expression)\n",
    "    element.click()\n",
    "\n",
    "    # 抓取目前所有視窗\n",
    "    all_window_handles = driver.window_handles\n",
    "\n",
    "    # 切换到新視窗\n",
    "    new_window_handle = all_window_handles[1]\n",
    "    driver.switch_to.window(new_window_handle)\n",
    "\n",
    "    # 使用 BeautifulSoup 解析页面\n",
    "    soup_3 = BeautifulSoup(driver.page_source, \"html.parser\")\n",
    "    tables_2 = soup_3.find_all('table')\n",
    "\n",
    "    # 抓取第三个表格為所需要\n",
    "    second_table_2 = tables_2[2]\n",
    "\n",
    "    rows_2 = second_table_2.find_all('tr')\n",
    "    data_2 = []\n",
    "    for row in rows_2:\n",
    "        cells = row.find_all('td')\n",
    "        row_data = [cell.get_text(strip = True) for cell in cells]\n",
    "        data_2.append(row_data)\n",
    "    \n",
    "    # 抓取出所需要資料的位置\n",
    "    data_en = data_2[3][1]\n",
    "    data_en_list.append(data_en)\n",
    "    # 關閉 pop out 的視窗\n",
    "    driver.close()\n",
    "\n",
    "    # 切换回原始窗口\n",
    "    driver.switch_to.window(all_window_handles[0])\n",
    "    driver.switch_to.frame(\"mainFrame\")"
   ],
   "metadata": {
    "collapsed": false,
    "ExecuteTime": {
     "end_time": "2023-09-07T12:43:34.615644600Z",
     "start_time": "2023-09-07T12:43:23.444139200Z"
    }
   },
   "id": "5f9d680c27433d92"
  },
  {
   "cell_type": "code",
   "execution_count": 81,
   "outputs": [
    {
     "data": {
      "text/plain": "['10-Month USD Daily Knock-in and Step-Down Auto Callable EquityLinked Notes',\n '10-Month USD Daily Knock-in and Step-Down Auto Callable EquityLinked Notes',\n '10-Month USD Daily Knock-in and Step-Down Auto Callable EquityLinked Notes',\n '10-Month USD Daily Knock-in and Step-Down Auto Callable EquityLinked Notes',\n '10-Month USD Daily Knock-in and Step-Down Auto Callable EquityLinked Notes',\n '10-Month USD Daily Knock-in and Step-Down Auto Callable EquityLinked Notes',\n '10-Month USD Daily Knock-in and Step-Down Auto Callable EquityLinked Notes',\n '10-Month USD Daily Knock-in and Step-Down Auto Callable EquityLinked Notes',\n '10-Month USD Daily Knock-in and Step-Down Auto Callable EquityLinked Notes',\n '10-Month USD Daily Knock-in and Step-Down Auto Callable EquityLinked Notes',\n '10-Month USD Daily Knock-in and Step-Down Auto Callable EquityLinked Notes',\n '10-Month USD Fixed Coupon Daily Knock-in and Memory Daily AutoCallable Equity Linked Notes',\n '10-Month USD Fixed Coupon Daily Knock-in and Memory Daily AutoCallable Equity Linked Notes',\n '10-Month USD Fixed Coupon Daily Knock-in and Memory Daily AutoCallable Equity Linked Notes',\n '10-Month USD Fixed Coupon Daily Knock-in and Memory Daily AutoCallable Equity Linked Notes',\n '10-Month USD Fixed Coupon Daily Knock-in and Step-Down MemoryMonthly Auto Callable Equity Linked Notes',\n '10-Month USD Fixed Coupon Memory Daily Auto Callable EquityLinked Notes',\n '10-Month USD Fixed Coupon Memory Daily Auto Callable EquityLinked Notes',\n '10-Month USD Valuation Date Knock-in and Step-Down Auto CallableEquity Linked Notes',\n '10-Month USD Range Accrual Memory Daily Auto Callable Equity LinkedNotes',\n '10-Month AUD Daily Knock-in and Step-Down Auto Callable Equity LinkedNotes',\n '10-Month AUD Daily Knock-in and Step-Down Auto Callable Equity LinkedNotes',\n '10-Month AUD Range Accrual Memory Daily Auto Callable Equity LinkedNotes',\n '11-Month USD Daily Knock-in and Step-Down Auto Callable EquityLinked Notes',\n '11-Month USD Daily Knock-in and Step-Down Auto Callable EquityLinked Notes',\n '11-Month USD Daily Knock-in and Step-Down Auto Callable EquityLinked Notes',\n '11-Month USD Daily Knock-in and Step-Down Auto Callable EquityLinked Notes',\n '11-Month USD Daily Knock-in and Step-Down Auto Callable EquityLinked Notes',\n '11-Month USD Daily Knock-in and Step-Down Auto Callable EquityLinked Notes',\n '11-Month USD Daily Knock-in and Step-Down Auto Callable EquityLinked Notes',\n '11-Month USD Daily Knock-in and Step-Down Auto Callable EquityLinked Notes',\n '11-Month USD Daily Knock-in and Step-Down Auto Callable EquityLinked Notes',\n '11-Month USD Daily Knock-in and Step-Down Auto Callable EquityLinked Notes',\n '11-Month USD Daily Knock-in and Step-Down Auto Callable EquityLinked Notes',\n '11-Month USD Daily Knock-in and Step-Down Auto Callable EquityLinked Notes',\n '11-Month USD Daily Knock-in and Step-Down Auto Callable EquityLinked Notes',\n '11-Month USD Daily Knock-in and Step-Down Memory Auto CallableEquity Linked Notes',\n '11-Month USD Valuation Date Knock-in and Step-Down Auto CallableEquity Linked Notes',\n '11-Month HKD Daily Knock-in and Step-Down Auto Callable Equity LinkedNotes',\n '12-Month USD Daily Knock-in and Step-Down Auto Callable EquityLinked Notes',\n '12-Month USD Daily Knock-in and Step-Down Auto Callable EquityLinked Notes',\n '12-Month USD Daily Knock-in and Step-Down Auto Callable EquityLinked Notes',\n '12-Month USD Daily Knock-in and Step-Down Auto Callable EquityLinked Notes',\n '12-Month USD Daily Knock-in and Step-Down Auto Callable EquityLinked Notes',\n '12-Month USD Daily Knock-in and Step-Down Auto Callable EquityLinked Notes',\n '12-Month USD Daily Knock-in and Step-Down Auto Callable EquityLinked Notes',\n '12-Month USD Daily Knock-in and Step-Down Auto Callable EquityLinked Notes',\n '12-Month USD Daily Knock-in and Step-Down Auto Callable EquityLinked Notes',\n '12-Month USD Daily Knock-in and Step-Down Auto Callable EquityLinked Notes',\n '12-Month USD Daily Knock-in and Step-Down Auto Callable EquityLinked Notes']"
     },
     "execution_count": 81,
     "metadata": {},
     "output_type": "execute_result"
    }
   ],
   "source": [
    "data_en_list"
   ],
   "metadata": {
    "collapsed": false,
    "ExecuteTime": {
     "end_time": "2023-09-07T12:43:36.972934900Z",
     "start_time": "2023-09-07T12:43:36.959935Z"
    }
   },
   "id": "4e645f642e78ccc4"
  },
  {
   "cell_type": "code",
   "execution_count": 101,
   "outputs": [],
   "source": [
    "import pandas as pd\n",
    "df = pd.read_csv(\"submission.csv\")"
   ],
   "metadata": {
    "collapsed": false,
    "ExecuteTime": {
     "end_time": "2023-09-07T12:59:05.222943400Z",
     "start_time": "2023-09-07T12:59:05.208731100Z"
    }
   },
   "id": "e5b88d85161d1fbf"
  },
  {
   "cell_type": "code",
   "execution_count": 102,
   "outputs": [],
   "source": [
    "original_columns = df.columns.tolist()"
   ],
   "metadata": {
    "collapsed": false,
    "ExecuteTime": {
     "end_time": "2023-09-07T12:59:05.589769500Z",
     "start_time": "2023-09-07T12:59:05.587727Z"
    }
   },
   "id": "6e4ed3a9657d56fa"
  },
  {
   "cell_type": "code",
   "execution_count": 103,
   "outputs": [],
   "source": [
    "# 合併至原始資料\n",
    "final_df = pd.concat([df,pd.Series(data_en_list)], axis = 1, ignore_index = True)\n",
    "final_df.columns = original_columns + ['商品英文名稱']"
   ],
   "metadata": {
    "collapsed": false,
    "ExecuteTime": {
     "end_time": "2023-09-07T12:59:05.946863600Z",
     "start_time": "2023-09-07T12:59:05.945853500Z"
    }
   },
   "id": "1c8882cef7f2529e"
  },
  {
   "cell_type": "code",
   "execution_count": 104,
   "outputs": [
    {
     "data": {
      "text/plain": "           商品代號                                               商品名稱 計價幣別  \\\n0   37001000216   SG ISSUER 10年期美元計價( 發行機構可買回 )連結雙標的每日計息結構型商品(無擔保)   美元   \n1   37001002827  SG ISSUER 美元計價12個月固定配息（記憶式自動提前出場）股權連結結構型商品（不保本...   美元   \n2   37001002837  SG ISSUER 美元計價12個月固定配息（記憶式自動提前出場）股權連結結構型商品（不保本...   美元   \n3   37001002838  SG ISSUER 澳幣計價12個月固定配息（記憶式自動提前出場）股權連結結構型商品（不保本...   澳幣   \n4   37001002840  SG ISSUER 歐元計價12個月固定配息（記憶式自動提前出場）股權連結結構型商品（不保本...   歐元   \n5   37001002858  SG ISSUER 美元計價7個月固定配息（記憶式自動提前出場）股權連結結構型商品（不保本及...   美元   \n6   37001002893  SG ISSUER 美元計價12個月固定配息（記憶式自動提前出場）股權連結結構型商品（不保本...   美元   \n7   37001002894  SG ISSUER 美元計價12個月固定配息（記憶式自動提前出場）股權連結結構型商品（不保本...   美元   \n8   37001002895  SG ISSUER 澳幣計價6個月固定配息（記憶式自動提前出場）股權連結結構型商品（不保本及...   澳幣   \n9   37001002896  SG ISSUER 英鎊計價12個月固定配息（記憶式自動提前出場）股權連結結構型商品（不保本...   英鎊   \n10  37001002921  SG ISSUER 美元計價12個月固定配息（記憶式自動提前出場）股權連結結構型商品（不保本...   美元   \n11  37001002924  SG ISSUER 美元計價12個月固定配息（記憶式自動提前出場）股權連結結構型商品（不保本...   美元   \n12  37001002925  SG ISSUER 澳幣計價12 個月固定配息（記憶式自動提前出場）股權連結結構型商品（不保...   澳幣   \n13  37001002926  SG ISSUER 美元計價12個月固定配息（記憶式自動提前出場）股權連結結構型商品（不保本...   美元   \n14  37001002928  SG ISSUER 美元計價12個月固定配息（記憶式自動提前出場）股權連結結構型商品（不保本...   美元   \n15  37001002929  SG ISSUER 美元計價6個月固定配息（記憶式自動提前出場）股權連結結構型商品（不保本及...   美元   \n16  37001002930  SG ISSUER 美元計價9個月固定配息（記憶式自動提前出場）股權連結結構型商品（不保本及...   美元   \n17  37001002940  SG ISSUER 美元計價12個月固定配息（記憶式自動提前出場）股權連結結構型商品（不保本...   美元   \n18  37001002942  SG ISSUER 美元計價12個月固定配息（記憶式自動提前出場）股權連結結構型商品（不保本...   美元   \n19  37001002943  SG ISSUER 美元計價5個月固定配息（記憶式自動提前出場）股權連結結構型商品（不保本及...   美元   \n20  37001002944  SG ISSUER 美元計價4個月固定配息（記憶式自動提前出場）股權連結結構型商品（不保本及...   美元   \n21  37001002945  SG ISSUER 美元計價6個月固定配息（記憶式自動提前出場）股權連結結構型商品（不保本及...   美元   \n22  37001002976  SG ISSUER 美元計價12 個月固定配息（記憶式自動提前出場）股權連結結構型商品（不保...   美元   \n23  37001002977  SG ISSUER 美元計價6個月固定配息（記憶式自動提前出場）股權連結結構型商品（不保本及...   美元   \n24  37001002990  SG ISSUER 美元計價12個月固定配息（記憶式自動提前出場）股權連結結構型商品（不保本...   美元   \n25  37001002996  SG ISSUER 美元計價12個月固定配息（記憶式自動提前出場）股權連結結構型商品（不保本...   美元   \n26  37001002998  SG ISSUER 美元計價12個月固定配息（記憶式自動提前出場）股權連結結構型商品（不保本...   美元   \n27  37001003008  SG ISSUER 美元計價12個月固定配息（記憶式自動提前出場）股權連結結構型商品（不保本...   美元   \n28  37001003009  SG ISSUER 美元計價12個月固定配息（記憶式自動提前出場）股權連結結構型商品（不保本...   美元   \n29  37001003018  SG ISSUER 美元計價12個月固定配息（記憶式自動提前出場）股權連結結構型商品（不保本...   美元   \n30  37001003019  SG ISSUER 美元計價12個月固定配息（記憶式自動提前出場）股權連結結構型商品（不保本...   美元   \n31  37001003020  SG ISSUER 美元計價12個月固定配息（記憶式自動提前出場）股權連結結構型商品（不保本...   美元   \n32  37001003029  SG ISSUER 美元計價12 個月固定配息（記憶式自動提前出場）股權連結結構型商品（不保...   美元   \n33  37001003047  SG ISSUER 美元計價12個月固定配息（記憶式自動提前出場）股權連結結構型商品（不保本...   美元   \n34  37001003050  SG ISSUER 美元計價12個月固定配息（記憶式自動提前出場）股權連結結構型商品（不保本...   美元   \n35  37001003058  SG ISSUER 美元計價12 個月固定配息（記憶式自動提前出場）股權連結結構型商品（不保...   美元   \n36  37001003061  SG ISSUER 美元計價12個月固定配息（記憶式自動提前出場）股權連結結構型商品（不保本...   美元   \n37  37001003068  SG ISSUER 美元計價12個月固定配息（記憶式自動提前出場）股權連結結構型商品（不保本...   美元   \n38  37001003076  SG ISSUER 美元計價12個月固定配息（記憶式自動提前出場）股權連結結構型商品（不保本...   美元   \n39  37001003081  SG ISSUER 美元計價12個月固定配息（記憶式自動提前出場）股權連結結構型商品（不保本...   美元   \n40  37001003082  SG ISSUER 美元計價12個月固定配息（記憶式自動提前出場）股權連結結構型商品（不保本...   美元   \n41  37001003085  SG ISSUER 美元計價12個月固定配息（記憶式自動提前出場）股權連結結構型商品（不保本...   美元   \n42  37001003086  SG ISSUER 美元計價6個月固定配息（記憶式自動提前出場）股權連結結構型商品（不保本及...   美元   \n43  37001003087  SG ISSUER 美元計價6個月固定配息（記憶式自動提前出場）股權連結結構型商品（不保本及...   美元   \n44  37001003111  SG ISSUER 美元計價12個月固定配息（記憶式自動提前出場）股權連結結構型商品（不保本...   美元   \n45  37001003112  SG ISSUER 美元計價12個月固定配息（記憶式自動提前出場）股權連結結構型商品（不保本...   美元   \n46  37001003113  SG ISSUER 美元計價12 個月固定配息（記憶式自動提前出場）股權連結結構型商品（不保...   美元   \n47  37001003119  SG ISSUER 澳幣計價12個月固定配息（記憶式自動提前出場）股權連結結構型商品（不保本...   澳幣   \n48  37001003120  SG ISSUER 澳幣計價12個月固定配息（記憶式自動提前出場）股權連結結構型商品（不保本...   澳幣   \n49  37001003122  SG ISSUER 美元計價12個月固定配息（記憶式自動提前出場）股權連結結構型商品（不保本...   美元   \n\n         終止生效日  連結標的類別 計價貨幣本金保本率  投資人類別     商品國內發行日       發行機構           總代理  \\\n0   2023/09/10  匯率, 商品      100%  專業投資人  2013/09/10  SG ISSUER  法商法國興業銀行台北分行   \n1   2018/02/01      股權        0%  專業投資人  2017/12/27  SG ISSUER  法商法國興業銀行台北分行   \n2   2018/02/01      股權        0%  專業投資人  2017/12/28  SG ISSUER  法商法國興業銀行台北分行   \n3   2018/02/01      股權        0%  專業投資人  2017/12/28  SG ISSUER  法商法國興業銀行台北分行   \n4   2019/01/03      股權        0%  專業投資人  2017/12/28  SG ISSUER  法商法國興業銀行台北分行   \n5   2018/02/20      股權        0%  專業投資人  2018/01/04  SG ISSUER  法商法國興業銀行台北分行   \n6   2018/02/20      股權        0%  專業投資人  2018/01/11  SG ISSUER  法商法國興業銀行台北分行   \n7   2018/02/15      股權        0%  專業投資人  2018/01/11  SG ISSUER  法商法國興業銀行台北分行   \n8   2018/02/28      股權        0%  專業投資人  2018/01/11  SG ISSUER  法商法國興業銀行台北分行   \n9   2018/02/26      股權        0%  專業投資人  2018/01/11  SG ISSUER  法商法國興業銀行台北分行   \n10  2018/02/28      股權        0%  專業投資人  2018/01/16  SG ISSUER  法商法國興業銀行台北分行   \n11  2018/02/22      股權        0%  專業投資人  2018/01/16  SG ISSUER  法商法國興業銀行台北分行   \n12  2019/01/22      股權        0%  專業投資人  2018/01/16  SG ISSUER  法商法國興業銀行台北分行   \n13  2019/01/22      股權        0%  專業投資人  2018/01/16  SG ISSUER  法商法國興業銀行台北分行   \n14  2018/04/23      股權        0%  專業投資人  2018/01/16  SG ISSUER  法商法國興業銀行台北分行   \n15  2018/02/22      股權        0%  專業投資人  2018/01/16  SG ISSUER  法商法國興業銀行台北分行   \n16  2018/06/20      股權        0%  專業投資人  2018/01/16  SG ISSUER  法商法國興業銀行台北分行   \n17  2018/04/10      股權        0%  專業投資人  2018/01/17  SG ISSUER  法商法國興業銀行台北分行   \n18  2019/01/23      股權        0%  專業投資人  2018/01/17  SG ISSUER  法商法國興業銀行台北分行   \n19  2018/05/16      股權        0%  專業投資人  2018/01/17  SG ISSUER  法商法國興業銀行台北分行   \n20  2018/02/23      股權        0%  專業投資人  2018/01/17  SG ISSUER  法商法國興業銀行台北分行   \n21  2018/07/20      股權        0%  專業投資人  2018/01/17  SG ISSUER  法商法國興業銀行台北分行   \n22  2019/01/28      股權        0%  專業投資人  2018/01/23  SG ISSUER  法商法國興業銀行台北分行   \n23  2018/07/26      股權        0%  專業投資人  2018/01/23  SG ISSUER  法商法國興業銀行台北分行   \n24  2018/04/03      股權        0%  專業投資人  2018/01/24  SG ISSUER  法商法國興業銀行台北分行   \n25  2018/06/11      股權        0%  專業投資人  2018/01/25  SG ISSUER  法商法國興業銀行台北分行   \n26  2019/01/30      股權        0%  專業投資人  2018/01/25  SG ISSUER  法商法國興業銀行台北分行   \n27  2019/01/31      股權        0%  專業投資人  2018/01/26  SG ISSUER  法商法國興業銀行台北分行   \n28  2019/01/31      股權        0%  專業投資人  2018/01/26  SG ISSUER  法商法國興業銀行台北分行   \n29  2019/02/01      股權        0%  專業投資人  2018/01/29  SG ISSUER  法商法國興業銀行台北分行   \n30  2018/05/15      股權        0%  專業投資人  2018/01/29  SG ISSUER  法商法國興業銀行台北分行   \n31  2018/06/19      股權        0%  專業投資人  2018/01/29  SG ISSUER  法商法國興業銀行台北分行   \n32  2019/02/04      股權        0%  專業投資人  2018/01/30  SG ISSUER  法商法國興業銀行台北分行   \n33  2018/05/17      股權        0%  專業投資人  2018/01/31  SG ISSUER  法商法國興業銀行台北分行   \n34  2018/05/21      股權        0%  專業投資人  2018/01/31  SG ISSUER  法商法國興業銀行台北分行   \n35  2019/02/06      股權        0%  專業投資人  2018/02/01  SG ISSUER  法商法國興業銀行台北分行   \n36  2019/02/06      股權        0%  專業投資人  2018/02/01  SG ISSUER  法商法國興業銀行台北分行   \n37  2019/02/07      股權        0%  專業投資人  2018/02/02  SG ISSUER  法商法國興業銀行台北分行   \n38  2019/02/08      股權        0%  專業投資人  2018/02/05  SG ISSUER  法商法國興業銀行台北分行   \n39  2019/02/11      股權        0%  專業投資人  2018/02/06  SG ISSUER  法商法國興業銀行台北分行   \n40  2019/02/11      股權        0%  專業投資人  2018/02/06  SG ISSUER  法商法國興業銀行台北分行   \n41  2018/03/16      股權        0%  專業投資人  2018/02/06  SG ISSUER  法商法國興業銀行台北分行   \n42  2018/08/09      股權        0%  專業投資人  2018/02/06  SG ISSUER  法商法國興業銀行台北分行   \n43  2018/08/09      股權        0%  專業投資人  2018/02/06  SG ISSUER  法商法國興業銀行台北分行   \n44  2018/03/28      股權        0%  專業投資人  2018/02/13  SG ISSUER  法商法國興業銀行台北分行   \n45  2019/02/19      股權        0%  專業投資人  2018/02/13  SG ISSUER  法商法國興業銀行台北分行   \n46  2018/06/19      股權        0%  專業投資人  2018/02/13  SG ISSUER  法商法國興業銀行台北分行   \n47  2018/03/29      股權        0%  專業投資人  2018/02/14  SG ISSUER  法商法國興業銀行台北分行   \n48  2018/03/29      股權        0%  專業投資人  2018/02/14  SG ISSUER  法商法國興業銀行台北分行   \n49  2018/06/19      股權        0%  專業投資人  2018/02/14  SG ISSUER  法商法國興業銀行台北分行   \n\n             受託或銷售機構                                             商品英文名稱  \n0   星展(台灣)商業銀行股份有限公司  10-Month USD Daily Knock-in and Step-Down Auto...  \n1   星展(台灣)商業銀行股份有限公司  10-Month USD Daily Knock-in and Step-Down Auto...  \n2   星展(台灣)商業銀行股份有限公司  10-Month USD Daily Knock-in and Step-Down Auto...  \n3   星展(台灣)商業銀行股份有限公司  10-Month USD Daily Knock-in and Step-Down Auto...  \n4   星展(台灣)商業銀行股份有限公司  10-Month USD Daily Knock-in and Step-Down Auto...  \n5   星展(台灣)商業銀行股份有限公司  10-Month USD Daily Knock-in and Step-Down Auto...  \n6   星展(台灣)商業銀行股份有限公司  10-Month USD Daily Knock-in and Step-Down Auto...  \n7   星展(台灣)商業銀行股份有限公司  10-Month USD Daily Knock-in and Step-Down Auto...  \n8   星展(台灣)商業銀行股份有限公司  10-Month USD Daily Knock-in and Step-Down Auto...  \n9   星展(台灣)商業銀行股份有限公司  10-Month USD Daily Knock-in and Step-Down Auto...  \n10  星展(台灣)商業銀行股份有限公司  10-Month USD Daily Knock-in and Step-Down Auto...  \n11  星展(台灣)商業銀行股份有限公司  10-Month USD Fixed Coupon Daily Knock-in and M...  \n12  星展(台灣)商業銀行股份有限公司  10-Month USD Fixed Coupon Daily Knock-in and M...  \n13  星展(台灣)商業銀行股份有限公司  10-Month USD Fixed Coupon Daily Knock-in and M...  \n14  星展(台灣)商業銀行股份有限公司  10-Month USD Fixed Coupon Daily Knock-in and M...  \n15  星展(台灣)商業銀行股份有限公司  10-Month USD Fixed Coupon Daily Knock-in and S...  \n16  星展(台灣)商業銀行股份有限公司  10-Month USD Fixed Coupon Memory Daily Auto Ca...  \n17  星展(台灣)商業銀行股份有限公司  10-Month USD Fixed Coupon Memory Daily Auto Ca...  \n18  星展(台灣)商業銀行股份有限公司  10-Month USD Valuation Date Knock-in and Step-...  \n19  星展(台灣)商業銀行股份有限公司  10-Month USD Range Accrual Memory Daily Auto C...  \n20  星展(台灣)商業銀行股份有限公司  10-Month AUD Daily Knock-in and Step-Down Auto...  \n21  星展(台灣)商業銀行股份有限公司  10-Month AUD Daily Knock-in and Step-Down Auto...  \n22  星展(台灣)商業銀行股份有限公司  10-Month AUD Range Accrual Memory Daily Auto C...  \n23  星展(台灣)商業銀行股份有限公司  11-Month USD Daily Knock-in and Step-Down Auto...  \n24  星展(台灣)商業銀行股份有限公司  11-Month USD Daily Knock-in and Step-Down Auto...  \n25  星展(台灣)商業銀行股份有限公司  11-Month USD Daily Knock-in and Step-Down Auto...  \n26  星展(台灣)商業銀行股份有限公司  11-Month USD Daily Knock-in and Step-Down Auto...  \n27  星展(台灣)商業銀行股份有限公司  11-Month USD Daily Knock-in and Step-Down Auto...  \n28  星展(台灣)商業銀行股份有限公司  11-Month USD Daily Knock-in and Step-Down Auto...  \n29  星展(台灣)商業銀行股份有限公司  11-Month USD Daily Knock-in and Step-Down Auto...  \n30  星展(台灣)商業銀行股份有限公司  11-Month USD Daily Knock-in and Step-Down Auto...  \n31  星展(台灣)商業銀行股份有限公司  11-Month USD Daily Knock-in and Step-Down Auto...  \n32  星展(台灣)商業銀行股份有限公司  11-Month USD Daily Knock-in and Step-Down Auto...  \n33  星展(台灣)商業銀行股份有限公司  11-Month USD Daily Knock-in and Step-Down Auto...  \n34  星展(台灣)商業銀行股份有限公司  11-Month USD Daily Knock-in and Step-Down Auto...  \n35  星展(台灣)商業銀行股份有限公司  11-Month USD Daily Knock-in and Step-Down Auto...  \n36  星展(台灣)商業銀行股份有限公司  11-Month USD Daily Knock-in and Step-Down Memo...  \n37  星展(台灣)商業銀行股份有限公司  11-Month USD Valuation Date Knock-in and Step-...  \n38  星展(台灣)商業銀行股份有限公司  11-Month HKD Daily Knock-in and Step-Down Auto...  \n39  星展(台灣)商業銀行股份有限公司  12-Month USD Daily Knock-in and Step-Down Auto...  \n40  星展(台灣)商業銀行股份有限公司  12-Month USD Daily Knock-in and Step-Down Auto...  \n41  星展(台灣)商業銀行股份有限公司  12-Month USD Daily Knock-in and Step-Down Auto...  \n42  星展(台灣)商業銀行股份有限公司  12-Month USD Daily Knock-in and Step-Down Auto...  \n43  星展(台灣)商業銀行股份有限公司  12-Month USD Daily Knock-in and Step-Down Auto...  \n44  星展(台灣)商業銀行股份有限公司  12-Month USD Daily Knock-in and Step-Down Auto...  \n45  星展(台灣)商業銀行股份有限公司  12-Month USD Daily Knock-in and Step-Down Auto...  \n46  星展(台灣)商業銀行股份有限公司  12-Month USD Daily Knock-in and Step-Down Auto...  \n47  星展(台灣)商業銀行股份有限公司  12-Month USD Daily Knock-in and Step-Down Auto...  \n48  星展(台灣)商業銀行股份有限公司  12-Month USD Daily Knock-in and Step-Down Auto...  \n49  星展(台灣)商業銀行股份有限公司  12-Month USD Daily Knock-in and Step-Down Auto...  ",
      "text/html": "<div>\n<style scoped>\n    .dataframe tbody tr th:only-of-type {\n        vertical-align: middle;\n    }\n\n    .dataframe tbody tr th {\n        vertical-align: top;\n    }\n\n    .dataframe thead th {\n        text-align: right;\n    }\n</style>\n<table border=\"1\" class=\"dataframe\">\n  <thead>\n    <tr style=\"text-align: right;\">\n      <th></th>\n      <th>商品代號</th>\n      <th>商品名稱</th>\n      <th>計價幣別</th>\n      <th>終止生效日</th>\n      <th>連結標的類別</th>\n      <th>計價貨幣本金保本率</th>\n      <th>投資人類別</th>\n      <th>商品國內發行日</th>\n      <th>發行機構</th>\n      <th>總代理</th>\n      <th>受託或銷售機構</th>\n      <th>商品英文名稱</th>\n    </tr>\n  </thead>\n  <tbody>\n    <tr>\n      <th>0</th>\n      <td>37001000216</td>\n      <td>SG ISSUER 10年期美元計價( 發行機構可買回 )連結雙標的每日計息結構型商品(無擔保)</td>\n      <td>美元</td>\n      <td>2023/09/10</td>\n      <td>匯率, 商品</td>\n      <td>100%</td>\n      <td>專業投資人</td>\n      <td>2013/09/10</td>\n      <td>SG ISSUER</td>\n      <td>法商法國興業銀行台北分行</td>\n      <td>星展(台灣)商業銀行股份有限公司</td>\n      <td>10-Month USD Daily Knock-in and Step-Down Auto...</td>\n    </tr>\n    <tr>\n      <th>1</th>\n      <td>37001002827</td>\n      <td>SG ISSUER 美元計價12個月固定配息（記憶式自動提前出場）股權連結結構型商品（不保本...</td>\n      <td>美元</td>\n      <td>2018/02/01</td>\n      <td>股權</td>\n      <td>0%</td>\n      <td>專業投資人</td>\n      <td>2017/12/27</td>\n      <td>SG ISSUER</td>\n      <td>法商法國興業銀行台北分行</td>\n      <td>星展(台灣)商業銀行股份有限公司</td>\n      <td>10-Month USD Daily Knock-in and Step-Down Auto...</td>\n    </tr>\n    <tr>\n      <th>2</th>\n      <td>37001002837</td>\n      <td>SG ISSUER 美元計價12個月固定配息（記憶式自動提前出場）股權連結結構型商品（不保本...</td>\n      <td>美元</td>\n      <td>2018/02/01</td>\n      <td>股權</td>\n      <td>0%</td>\n      <td>專業投資人</td>\n      <td>2017/12/28</td>\n      <td>SG ISSUER</td>\n      <td>法商法國興業銀行台北分行</td>\n      <td>星展(台灣)商業銀行股份有限公司</td>\n      <td>10-Month USD Daily Knock-in and Step-Down Auto...</td>\n    </tr>\n    <tr>\n      <th>3</th>\n      <td>37001002838</td>\n      <td>SG ISSUER 澳幣計價12個月固定配息（記憶式自動提前出場）股權連結結構型商品（不保本...</td>\n      <td>澳幣</td>\n      <td>2018/02/01</td>\n      <td>股權</td>\n      <td>0%</td>\n      <td>專業投資人</td>\n      <td>2017/12/28</td>\n      <td>SG ISSUER</td>\n      <td>法商法國興業銀行台北分行</td>\n      <td>星展(台灣)商業銀行股份有限公司</td>\n      <td>10-Month USD Daily Knock-in and Step-Down Auto...</td>\n    </tr>\n    <tr>\n      <th>4</th>\n      <td>37001002840</td>\n      <td>SG ISSUER 歐元計價12個月固定配息（記憶式自動提前出場）股權連結結構型商品（不保本...</td>\n      <td>歐元</td>\n      <td>2019/01/03</td>\n      <td>股權</td>\n      <td>0%</td>\n      <td>專業投資人</td>\n      <td>2017/12/28</td>\n      <td>SG ISSUER</td>\n      <td>法商法國興業銀行台北分行</td>\n      <td>星展(台灣)商業銀行股份有限公司</td>\n      <td>10-Month USD Daily Knock-in and Step-Down Auto...</td>\n    </tr>\n    <tr>\n      <th>5</th>\n      <td>37001002858</td>\n      <td>SG ISSUER 美元計價7個月固定配息（記憶式自動提前出場）股權連結結構型商品（不保本及...</td>\n      <td>美元</td>\n      <td>2018/02/20</td>\n      <td>股權</td>\n      <td>0%</td>\n      <td>專業投資人</td>\n      <td>2018/01/04</td>\n      <td>SG ISSUER</td>\n      <td>法商法國興業銀行台北分行</td>\n      <td>星展(台灣)商業銀行股份有限公司</td>\n      <td>10-Month USD Daily Knock-in and Step-Down Auto...</td>\n    </tr>\n    <tr>\n      <th>6</th>\n      <td>37001002893</td>\n      <td>SG ISSUER 美元計價12個月固定配息（記憶式自動提前出場）股權連結結構型商品（不保本...</td>\n      <td>美元</td>\n      <td>2018/02/20</td>\n      <td>股權</td>\n      <td>0%</td>\n      <td>專業投資人</td>\n      <td>2018/01/11</td>\n      <td>SG ISSUER</td>\n      <td>法商法國興業銀行台北分行</td>\n      <td>星展(台灣)商業銀行股份有限公司</td>\n      <td>10-Month USD Daily Knock-in and Step-Down Auto...</td>\n    </tr>\n    <tr>\n      <th>7</th>\n      <td>37001002894</td>\n      <td>SG ISSUER 美元計價12個月固定配息（記憶式自動提前出場）股權連結結構型商品（不保本...</td>\n      <td>美元</td>\n      <td>2018/02/15</td>\n      <td>股權</td>\n      <td>0%</td>\n      <td>專業投資人</td>\n      <td>2018/01/11</td>\n      <td>SG ISSUER</td>\n      <td>法商法國興業銀行台北分行</td>\n      <td>星展(台灣)商業銀行股份有限公司</td>\n      <td>10-Month USD Daily Knock-in and Step-Down Auto...</td>\n    </tr>\n    <tr>\n      <th>8</th>\n      <td>37001002895</td>\n      <td>SG ISSUER 澳幣計價6個月固定配息（記憶式自動提前出場）股權連結結構型商品（不保本及...</td>\n      <td>澳幣</td>\n      <td>2018/02/28</td>\n      <td>股權</td>\n      <td>0%</td>\n      <td>專業投資人</td>\n      <td>2018/01/11</td>\n      <td>SG ISSUER</td>\n      <td>法商法國興業銀行台北分行</td>\n      <td>星展(台灣)商業銀行股份有限公司</td>\n      <td>10-Month USD Daily Knock-in and Step-Down Auto...</td>\n    </tr>\n    <tr>\n      <th>9</th>\n      <td>37001002896</td>\n      <td>SG ISSUER 英鎊計價12個月固定配息（記憶式自動提前出場）股權連結結構型商品（不保本...</td>\n      <td>英鎊</td>\n      <td>2018/02/26</td>\n      <td>股權</td>\n      <td>0%</td>\n      <td>專業投資人</td>\n      <td>2018/01/11</td>\n      <td>SG ISSUER</td>\n      <td>法商法國興業銀行台北分行</td>\n      <td>星展(台灣)商業銀行股份有限公司</td>\n      <td>10-Month USD Daily Knock-in and Step-Down Auto...</td>\n    </tr>\n    <tr>\n      <th>10</th>\n      <td>37001002921</td>\n      <td>SG ISSUER 美元計價12個月固定配息（記憶式自動提前出場）股權連結結構型商品（不保本...</td>\n      <td>美元</td>\n      <td>2018/02/28</td>\n      <td>股權</td>\n      <td>0%</td>\n      <td>專業投資人</td>\n      <td>2018/01/16</td>\n      <td>SG ISSUER</td>\n      <td>法商法國興業銀行台北分行</td>\n      <td>星展(台灣)商業銀行股份有限公司</td>\n      <td>10-Month USD Daily Knock-in and Step-Down Auto...</td>\n    </tr>\n    <tr>\n      <th>11</th>\n      <td>37001002924</td>\n      <td>SG ISSUER 美元計價12個月固定配息（記憶式自動提前出場）股權連結結構型商品（不保本...</td>\n      <td>美元</td>\n      <td>2018/02/22</td>\n      <td>股權</td>\n      <td>0%</td>\n      <td>專業投資人</td>\n      <td>2018/01/16</td>\n      <td>SG ISSUER</td>\n      <td>法商法國興業銀行台北分行</td>\n      <td>星展(台灣)商業銀行股份有限公司</td>\n      <td>10-Month USD Fixed Coupon Daily Knock-in and M...</td>\n    </tr>\n    <tr>\n      <th>12</th>\n      <td>37001002925</td>\n      <td>SG ISSUER 澳幣計價12 個月固定配息（記憶式自動提前出場）股權連結結構型商品（不保...</td>\n      <td>澳幣</td>\n      <td>2019/01/22</td>\n      <td>股權</td>\n      <td>0%</td>\n      <td>專業投資人</td>\n      <td>2018/01/16</td>\n      <td>SG ISSUER</td>\n      <td>法商法國興業銀行台北分行</td>\n      <td>星展(台灣)商業銀行股份有限公司</td>\n      <td>10-Month USD Fixed Coupon Daily Knock-in and M...</td>\n    </tr>\n    <tr>\n      <th>13</th>\n      <td>37001002926</td>\n      <td>SG ISSUER 美元計價12個月固定配息（記憶式自動提前出場）股權連結結構型商品（不保本...</td>\n      <td>美元</td>\n      <td>2019/01/22</td>\n      <td>股權</td>\n      <td>0%</td>\n      <td>專業投資人</td>\n      <td>2018/01/16</td>\n      <td>SG ISSUER</td>\n      <td>法商法國興業銀行台北分行</td>\n      <td>星展(台灣)商業銀行股份有限公司</td>\n      <td>10-Month USD Fixed Coupon Daily Knock-in and M...</td>\n    </tr>\n    <tr>\n      <th>14</th>\n      <td>37001002928</td>\n      <td>SG ISSUER 美元計價12個月固定配息（記憶式自動提前出場）股權連結結構型商品（不保本...</td>\n      <td>美元</td>\n      <td>2018/04/23</td>\n      <td>股權</td>\n      <td>0%</td>\n      <td>專業投資人</td>\n      <td>2018/01/16</td>\n      <td>SG ISSUER</td>\n      <td>法商法國興業銀行台北分行</td>\n      <td>星展(台灣)商業銀行股份有限公司</td>\n      <td>10-Month USD Fixed Coupon Daily Knock-in and M...</td>\n    </tr>\n    <tr>\n      <th>15</th>\n      <td>37001002929</td>\n      <td>SG ISSUER 美元計價6個月固定配息（記憶式自動提前出場）股權連結結構型商品（不保本及...</td>\n      <td>美元</td>\n      <td>2018/02/22</td>\n      <td>股權</td>\n      <td>0%</td>\n      <td>專業投資人</td>\n      <td>2018/01/16</td>\n      <td>SG ISSUER</td>\n      <td>法商法國興業銀行台北分行</td>\n      <td>星展(台灣)商業銀行股份有限公司</td>\n      <td>10-Month USD Fixed Coupon Daily Knock-in and S...</td>\n    </tr>\n    <tr>\n      <th>16</th>\n      <td>37001002930</td>\n      <td>SG ISSUER 美元計價9個月固定配息（記憶式自動提前出場）股權連結結構型商品（不保本及...</td>\n      <td>美元</td>\n      <td>2018/06/20</td>\n      <td>股權</td>\n      <td>0%</td>\n      <td>專業投資人</td>\n      <td>2018/01/16</td>\n      <td>SG ISSUER</td>\n      <td>法商法國興業銀行台北分行</td>\n      <td>星展(台灣)商業銀行股份有限公司</td>\n      <td>10-Month USD Fixed Coupon Memory Daily Auto Ca...</td>\n    </tr>\n    <tr>\n      <th>17</th>\n      <td>37001002940</td>\n      <td>SG ISSUER 美元計價12個月固定配息（記憶式自動提前出場）股權連結結構型商品（不保本...</td>\n      <td>美元</td>\n      <td>2018/04/10</td>\n      <td>股權</td>\n      <td>0%</td>\n      <td>專業投資人</td>\n      <td>2018/01/17</td>\n      <td>SG ISSUER</td>\n      <td>法商法國興業銀行台北分行</td>\n      <td>星展(台灣)商業銀行股份有限公司</td>\n      <td>10-Month USD Fixed Coupon Memory Daily Auto Ca...</td>\n    </tr>\n    <tr>\n      <th>18</th>\n      <td>37001002942</td>\n      <td>SG ISSUER 美元計價12個月固定配息（記憶式自動提前出場）股權連結結構型商品（不保本...</td>\n      <td>美元</td>\n      <td>2019/01/23</td>\n      <td>股權</td>\n      <td>0%</td>\n      <td>專業投資人</td>\n      <td>2018/01/17</td>\n      <td>SG ISSUER</td>\n      <td>法商法國興業銀行台北分行</td>\n      <td>星展(台灣)商業銀行股份有限公司</td>\n      <td>10-Month USD Valuation Date Knock-in and Step-...</td>\n    </tr>\n    <tr>\n      <th>19</th>\n      <td>37001002943</td>\n      <td>SG ISSUER 美元計價5個月固定配息（記憶式自動提前出場）股權連結結構型商品（不保本及...</td>\n      <td>美元</td>\n      <td>2018/05/16</td>\n      <td>股權</td>\n      <td>0%</td>\n      <td>專業投資人</td>\n      <td>2018/01/17</td>\n      <td>SG ISSUER</td>\n      <td>法商法國興業銀行台北分行</td>\n      <td>星展(台灣)商業銀行股份有限公司</td>\n      <td>10-Month USD Range Accrual Memory Daily Auto C...</td>\n    </tr>\n    <tr>\n      <th>20</th>\n      <td>37001002944</td>\n      <td>SG ISSUER 美元計價4個月固定配息（記憶式自動提前出場）股權連結結構型商品（不保本及...</td>\n      <td>美元</td>\n      <td>2018/02/23</td>\n      <td>股權</td>\n      <td>0%</td>\n      <td>專業投資人</td>\n      <td>2018/01/17</td>\n      <td>SG ISSUER</td>\n      <td>法商法國興業銀行台北分行</td>\n      <td>星展(台灣)商業銀行股份有限公司</td>\n      <td>10-Month AUD Daily Knock-in and Step-Down Auto...</td>\n    </tr>\n    <tr>\n      <th>21</th>\n      <td>37001002945</td>\n      <td>SG ISSUER 美元計價6個月固定配息（記憶式自動提前出場）股權連結結構型商品（不保本及...</td>\n      <td>美元</td>\n      <td>2018/07/20</td>\n      <td>股權</td>\n      <td>0%</td>\n      <td>專業投資人</td>\n      <td>2018/01/17</td>\n      <td>SG ISSUER</td>\n      <td>法商法國興業銀行台北分行</td>\n      <td>星展(台灣)商業銀行股份有限公司</td>\n      <td>10-Month AUD Daily Knock-in and Step-Down Auto...</td>\n    </tr>\n    <tr>\n      <th>22</th>\n      <td>37001002976</td>\n      <td>SG ISSUER 美元計價12 個月固定配息（記憶式自動提前出場）股權連結結構型商品（不保...</td>\n      <td>美元</td>\n      <td>2019/01/28</td>\n      <td>股權</td>\n      <td>0%</td>\n      <td>專業投資人</td>\n      <td>2018/01/23</td>\n      <td>SG ISSUER</td>\n      <td>法商法國興業銀行台北分行</td>\n      <td>星展(台灣)商業銀行股份有限公司</td>\n      <td>10-Month AUD Range Accrual Memory Daily Auto C...</td>\n    </tr>\n    <tr>\n      <th>23</th>\n      <td>37001002977</td>\n      <td>SG ISSUER 美元計價6個月固定配息（記憶式自動提前出場）股權連結結構型商品（不保本及...</td>\n      <td>美元</td>\n      <td>2018/07/26</td>\n      <td>股權</td>\n      <td>0%</td>\n      <td>專業投資人</td>\n      <td>2018/01/23</td>\n      <td>SG ISSUER</td>\n      <td>法商法國興業銀行台北分行</td>\n      <td>星展(台灣)商業銀行股份有限公司</td>\n      <td>11-Month USD Daily Knock-in and Step-Down Auto...</td>\n    </tr>\n    <tr>\n      <th>24</th>\n      <td>37001002990</td>\n      <td>SG ISSUER 美元計價12個月固定配息（記憶式自動提前出場）股權連結結構型商品（不保本...</td>\n      <td>美元</td>\n      <td>2018/04/03</td>\n      <td>股權</td>\n      <td>0%</td>\n      <td>專業投資人</td>\n      <td>2018/01/24</td>\n      <td>SG ISSUER</td>\n      <td>法商法國興業銀行台北分行</td>\n      <td>星展(台灣)商業銀行股份有限公司</td>\n      <td>11-Month USD Daily Knock-in and Step-Down Auto...</td>\n    </tr>\n    <tr>\n      <th>25</th>\n      <td>37001002996</td>\n      <td>SG ISSUER 美元計價12個月固定配息（記憶式自動提前出場）股權連結結構型商品（不保本...</td>\n      <td>美元</td>\n      <td>2018/06/11</td>\n      <td>股權</td>\n      <td>0%</td>\n      <td>專業投資人</td>\n      <td>2018/01/25</td>\n      <td>SG ISSUER</td>\n      <td>法商法國興業銀行台北分行</td>\n      <td>星展(台灣)商業銀行股份有限公司</td>\n      <td>11-Month USD Daily Knock-in and Step-Down Auto...</td>\n    </tr>\n    <tr>\n      <th>26</th>\n      <td>37001002998</td>\n      <td>SG ISSUER 美元計價12個月固定配息（記憶式自動提前出場）股權連結結構型商品（不保本...</td>\n      <td>美元</td>\n      <td>2019/01/30</td>\n      <td>股權</td>\n      <td>0%</td>\n      <td>專業投資人</td>\n      <td>2018/01/25</td>\n      <td>SG ISSUER</td>\n      <td>法商法國興業銀行台北分行</td>\n      <td>星展(台灣)商業銀行股份有限公司</td>\n      <td>11-Month USD Daily Knock-in and Step-Down Auto...</td>\n    </tr>\n    <tr>\n      <th>27</th>\n      <td>37001003008</td>\n      <td>SG ISSUER 美元計價12個月固定配息（記憶式自動提前出場）股權連結結構型商品（不保本...</td>\n      <td>美元</td>\n      <td>2019/01/31</td>\n      <td>股權</td>\n      <td>0%</td>\n      <td>專業投資人</td>\n      <td>2018/01/26</td>\n      <td>SG ISSUER</td>\n      <td>法商法國興業銀行台北分行</td>\n      <td>星展(台灣)商業銀行股份有限公司</td>\n      <td>11-Month USD Daily Knock-in and Step-Down Auto...</td>\n    </tr>\n    <tr>\n      <th>28</th>\n      <td>37001003009</td>\n      <td>SG ISSUER 美元計價12個月固定配息（記憶式自動提前出場）股權連結結構型商品（不保本...</td>\n      <td>美元</td>\n      <td>2019/01/31</td>\n      <td>股權</td>\n      <td>0%</td>\n      <td>專業投資人</td>\n      <td>2018/01/26</td>\n      <td>SG ISSUER</td>\n      <td>法商法國興業銀行台北分行</td>\n      <td>星展(台灣)商業銀行股份有限公司</td>\n      <td>11-Month USD Daily Knock-in and Step-Down Auto...</td>\n    </tr>\n    <tr>\n      <th>29</th>\n      <td>37001003018</td>\n      <td>SG ISSUER 美元計價12個月固定配息（記憶式自動提前出場）股權連結結構型商品（不保本...</td>\n      <td>美元</td>\n      <td>2019/02/01</td>\n      <td>股權</td>\n      <td>0%</td>\n      <td>專業投資人</td>\n      <td>2018/01/29</td>\n      <td>SG ISSUER</td>\n      <td>法商法國興業銀行台北分行</td>\n      <td>星展(台灣)商業銀行股份有限公司</td>\n      <td>11-Month USD Daily Knock-in and Step-Down Auto...</td>\n    </tr>\n    <tr>\n      <th>30</th>\n      <td>37001003019</td>\n      <td>SG ISSUER 美元計價12個月固定配息（記憶式自動提前出場）股權連結結構型商品（不保本...</td>\n      <td>美元</td>\n      <td>2018/05/15</td>\n      <td>股權</td>\n      <td>0%</td>\n      <td>專業投資人</td>\n      <td>2018/01/29</td>\n      <td>SG ISSUER</td>\n      <td>法商法國興業銀行台北分行</td>\n      <td>星展(台灣)商業銀行股份有限公司</td>\n      <td>11-Month USD Daily Knock-in and Step-Down Auto...</td>\n    </tr>\n    <tr>\n      <th>31</th>\n      <td>37001003020</td>\n      <td>SG ISSUER 美元計價12個月固定配息（記憶式自動提前出場）股權連結結構型商品（不保本...</td>\n      <td>美元</td>\n      <td>2018/06/19</td>\n      <td>股權</td>\n      <td>0%</td>\n      <td>專業投資人</td>\n      <td>2018/01/29</td>\n      <td>SG ISSUER</td>\n      <td>法商法國興業銀行台北分行</td>\n      <td>星展(台灣)商業銀行股份有限公司</td>\n      <td>11-Month USD Daily Knock-in and Step-Down Auto...</td>\n    </tr>\n    <tr>\n      <th>32</th>\n      <td>37001003029</td>\n      <td>SG ISSUER 美元計價12 個月固定配息（記憶式自動提前出場）股權連結結構型商品（不保...</td>\n      <td>美元</td>\n      <td>2019/02/04</td>\n      <td>股權</td>\n      <td>0%</td>\n      <td>專業投資人</td>\n      <td>2018/01/30</td>\n      <td>SG ISSUER</td>\n      <td>法商法國興業銀行台北分行</td>\n      <td>星展(台灣)商業銀行股份有限公司</td>\n      <td>11-Month USD Daily Knock-in and Step-Down Auto...</td>\n    </tr>\n    <tr>\n      <th>33</th>\n      <td>37001003047</td>\n      <td>SG ISSUER 美元計價12個月固定配息（記憶式自動提前出場）股權連結結構型商品（不保本...</td>\n      <td>美元</td>\n      <td>2018/05/17</td>\n      <td>股權</td>\n      <td>0%</td>\n      <td>專業投資人</td>\n      <td>2018/01/31</td>\n      <td>SG ISSUER</td>\n      <td>法商法國興業銀行台北分行</td>\n      <td>星展(台灣)商業銀行股份有限公司</td>\n      <td>11-Month USD Daily Knock-in and Step-Down Auto...</td>\n    </tr>\n    <tr>\n      <th>34</th>\n      <td>37001003050</td>\n      <td>SG ISSUER 美元計價12個月固定配息（記憶式自動提前出場）股權連結結構型商品（不保本...</td>\n      <td>美元</td>\n      <td>2018/05/21</td>\n      <td>股權</td>\n      <td>0%</td>\n      <td>專業投資人</td>\n      <td>2018/01/31</td>\n      <td>SG ISSUER</td>\n      <td>法商法國興業銀行台北分行</td>\n      <td>星展(台灣)商業銀行股份有限公司</td>\n      <td>11-Month USD Daily Knock-in and Step-Down Auto...</td>\n    </tr>\n    <tr>\n      <th>35</th>\n      <td>37001003058</td>\n      <td>SG ISSUER 美元計價12 個月固定配息（記憶式自動提前出場）股權連結結構型商品（不保...</td>\n      <td>美元</td>\n      <td>2019/02/06</td>\n      <td>股權</td>\n      <td>0%</td>\n      <td>專業投資人</td>\n      <td>2018/02/01</td>\n      <td>SG ISSUER</td>\n      <td>法商法國興業銀行台北分行</td>\n      <td>星展(台灣)商業銀行股份有限公司</td>\n      <td>11-Month USD Daily Knock-in and Step-Down Auto...</td>\n    </tr>\n    <tr>\n      <th>36</th>\n      <td>37001003061</td>\n      <td>SG ISSUER 美元計價12個月固定配息（記憶式自動提前出場）股權連結結構型商品（不保本...</td>\n      <td>美元</td>\n      <td>2019/02/06</td>\n      <td>股權</td>\n      <td>0%</td>\n      <td>專業投資人</td>\n      <td>2018/02/01</td>\n      <td>SG ISSUER</td>\n      <td>法商法國興業銀行台北分行</td>\n      <td>星展(台灣)商業銀行股份有限公司</td>\n      <td>11-Month USD Daily Knock-in and Step-Down Memo...</td>\n    </tr>\n    <tr>\n      <th>37</th>\n      <td>37001003068</td>\n      <td>SG ISSUER 美元計價12個月固定配息（記憶式自動提前出場）股權連結結構型商品（不保本...</td>\n      <td>美元</td>\n      <td>2019/02/07</td>\n      <td>股權</td>\n      <td>0%</td>\n      <td>專業投資人</td>\n      <td>2018/02/02</td>\n      <td>SG ISSUER</td>\n      <td>法商法國興業銀行台北分行</td>\n      <td>星展(台灣)商業銀行股份有限公司</td>\n      <td>11-Month USD Valuation Date Knock-in and Step-...</td>\n    </tr>\n    <tr>\n      <th>38</th>\n      <td>37001003076</td>\n      <td>SG ISSUER 美元計價12個月固定配息（記憶式自動提前出場）股權連結結構型商品（不保本...</td>\n      <td>美元</td>\n      <td>2019/02/08</td>\n      <td>股權</td>\n      <td>0%</td>\n      <td>專業投資人</td>\n      <td>2018/02/05</td>\n      <td>SG ISSUER</td>\n      <td>法商法國興業銀行台北分行</td>\n      <td>星展(台灣)商業銀行股份有限公司</td>\n      <td>11-Month HKD Daily Knock-in and Step-Down Auto...</td>\n    </tr>\n    <tr>\n      <th>39</th>\n      <td>37001003081</td>\n      <td>SG ISSUER 美元計價12個月固定配息（記憶式自動提前出場）股權連結結構型商品（不保本...</td>\n      <td>美元</td>\n      <td>2019/02/11</td>\n      <td>股權</td>\n      <td>0%</td>\n      <td>專業投資人</td>\n      <td>2018/02/06</td>\n      <td>SG ISSUER</td>\n      <td>法商法國興業銀行台北分行</td>\n      <td>星展(台灣)商業銀行股份有限公司</td>\n      <td>12-Month USD Daily Knock-in and Step-Down Auto...</td>\n    </tr>\n    <tr>\n      <th>40</th>\n      <td>37001003082</td>\n      <td>SG ISSUER 美元計價12個月固定配息（記憶式自動提前出場）股權連結結構型商品（不保本...</td>\n      <td>美元</td>\n      <td>2019/02/11</td>\n      <td>股權</td>\n      <td>0%</td>\n      <td>專業投資人</td>\n      <td>2018/02/06</td>\n      <td>SG ISSUER</td>\n      <td>法商法國興業銀行台北分行</td>\n      <td>星展(台灣)商業銀行股份有限公司</td>\n      <td>12-Month USD Daily Knock-in and Step-Down Auto...</td>\n    </tr>\n    <tr>\n      <th>41</th>\n      <td>37001003085</td>\n      <td>SG ISSUER 美元計價12個月固定配息（記憶式自動提前出場）股權連結結構型商品（不保本...</td>\n      <td>美元</td>\n      <td>2018/03/16</td>\n      <td>股權</td>\n      <td>0%</td>\n      <td>專業投資人</td>\n      <td>2018/02/06</td>\n      <td>SG ISSUER</td>\n      <td>法商法國興業銀行台北分行</td>\n      <td>星展(台灣)商業銀行股份有限公司</td>\n      <td>12-Month USD Daily Knock-in and Step-Down Auto...</td>\n    </tr>\n    <tr>\n      <th>42</th>\n      <td>37001003086</td>\n      <td>SG ISSUER 美元計價6個月固定配息（記憶式自動提前出場）股權連結結構型商品（不保本及...</td>\n      <td>美元</td>\n      <td>2018/08/09</td>\n      <td>股權</td>\n      <td>0%</td>\n      <td>專業投資人</td>\n      <td>2018/02/06</td>\n      <td>SG ISSUER</td>\n      <td>法商法國興業銀行台北分行</td>\n      <td>星展(台灣)商業銀行股份有限公司</td>\n      <td>12-Month USD Daily Knock-in and Step-Down Auto...</td>\n    </tr>\n    <tr>\n      <th>43</th>\n      <td>37001003087</td>\n      <td>SG ISSUER 美元計價6個月固定配息（記憶式自動提前出場）股權連結結構型商品（不保本及...</td>\n      <td>美元</td>\n      <td>2018/08/09</td>\n      <td>股權</td>\n      <td>0%</td>\n      <td>專業投資人</td>\n      <td>2018/02/06</td>\n      <td>SG ISSUER</td>\n      <td>法商法國興業銀行台北分行</td>\n      <td>星展(台灣)商業銀行股份有限公司</td>\n      <td>12-Month USD Daily Knock-in and Step-Down Auto...</td>\n    </tr>\n    <tr>\n      <th>44</th>\n      <td>37001003111</td>\n      <td>SG ISSUER 美元計價12個月固定配息（記憶式自動提前出場）股權連結結構型商品（不保本...</td>\n      <td>美元</td>\n      <td>2018/03/28</td>\n      <td>股權</td>\n      <td>0%</td>\n      <td>專業投資人</td>\n      <td>2018/02/13</td>\n      <td>SG ISSUER</td>\n      <td>法商法國興業銀行台北分行</td>\n      <td>星展(台灣)商業銀行股份有限公司</td>\n      <td>12-Month USD Daily Knock-in and Step-Down Auto...</td>\n    </tr>\n    <tr>\n      <th>45</th>\n      <td>37001003112</td>\n      <td>SG ISSUER 美元計價12個月固定配息（記憶式自動提前出場）股權連結結構型商品（不保本...</td>\n      <td>美元</td>\n      <td>2019/02/19</td>\n      <td>股權</td>\n      <td>0%</td>\n      <td>專業投資人</td>\n      <td>2018/02/13</td>\n      <td>SG ISSUER</td>\n      <td>法商法國興業銀行台北分行</td>\n      <td>星展(台灣)商業銀行股份有限公司</td>\n      <td>12-Month USD Daily Knock-in and Step-Down Auto...</td>\n    </tr>\n    <tr>\n      <th>46</th>\n      <td>37001003113</td>\n      <td>SG ISSUER 美元計價12 個月固定配息（記憶式自動提前出場）股權連結結構型商品（不保...</td>\n      <td>美元</td>\n      <td>2018/06/19</td>\n      <td>股權</td>\n      <td>0%</td>\n      <td>專業投資人</td>\n      <td>2018/02/13</td>\n      <td>SG ISSUER</td>\n      <td>法商法國興業銀行台北分行</td>\n      <td>星展(台灣)商業銀行股份有限公司</td>\n      <td>12-Month USD Daily Knock-in and Step-Down Auto...</td>\n    </tr>\n    <tr>\n      <th>47</th>\n      <td>37001003119</td>\n      <td>SG ISSUER 澳幣計價12個月固定配息（記憶式自動提前出場）股權連結結構型商品（不保本...</td>\n      <td>澳幣</td>\n      <td>2018/03/29</td>\n      <td>股權</td>\n      <td>0%</td>\n      <td>專業投資人</td>\n      <td>2018/02/14</td>\n      <td>SG ISSUER</td>\n      <td>法商法國興業銀行台北分行</td>\n      <td>星展(台灣)商業銀行股份有限公司</td>\n      <td>12-Month USD Daily Knock-in and Step-Down Auto...</td>\n    </tr>\n    <tr>\n      <th>48</th>\n      <td>37001003120</td>\n      <td>SG ISSUER 澳幣計價12個月固定配息（記憶式自動提前出場）股權連結結構型商品（不保本...</td>\n      <td>澳幣</td>\n      <td>2018/03/29</td>\n      <td>股權</td>\n      <td>0%</td>\n      <td>專業投資人</td>\n      <td>2018/02/14</td>\n      <td>SG ISSUER</td>\n      <td>法商法國興業銀行台北分行</td>\n      <td>星展(台灣)商業銀行股份有限公司</td>\n      <td>12-Month USD Daily Knock-in and Step-Down Auto...</td>\n    </tr>\n    <tr>\n      <th>49</th>\n      <td>37001003122</td>\n      <td>SG ISSUER 美元計價12個月固定配息（記憶式自動提前出場）股權連結結構型商品（不保本...</td>\n      <td>美元</td>\n      <td>2018/06/19</td>\n      <td>股權</td>\n      <td>0%</td>\n      <td>專業投資人</td>\n      <td>2018/02/14</td>\n      <td>SG ISSUER</td>\n      <td>法商法國興業銀行台北分行</td>\n      <td>星展(台灣)商業銀行股份有限公司</td>\n      <td>12-Month USD Daily Knock-in and Step-Down Auto...</td>\n    </tr>\n  </tbody>\n</table>\n</div>"
     },
     "execution_count": 104,
     "metadata": {},
     "output_type": "execute_result"
    }
   ],
   "source": [
    "final_df"
   ],
   "metadata": {
    "collapsed": false,
    "ExecuteTime": {
     "end_time": "2023-09-07T12:59:06.637884300Z",
     "start_time": "2023-09-07T12:59:06.629829800Z"
    }
   },
   "id": "c7624589d50b2fff"
  },
  {
   "cell_type": "code",
   "execution_count": 105,
   "outputs": [],
   "source": [
    "final_df.to_csv(\"final_submission.csv\", encoding = 'utf_8_sig', index = False)"
   ],
   "metadata": {
    "collapsed": false,
    "ExecuteTime": {
     "end_time": "2023-09-07T12:59:07.808742400Z",
     "start_time": "2023-09-07T12:59:07.798044400Z"
    }
   },
   "id": "28a9a0b75b6069be"
  },
  {
   "cell_type": "code",
   "execution_count": null,
   "outputs": [],
   "source": [],
   "metadata": {
    "collapsed": false
   },
   "id": "e60b76336d3636b0"
  }
 ],
 "metadata": {
  "kernelspec": {
   "display_name": "Python 3",
   "language": "python",
   "name": "python3"
  },
  "language_info": {
   "codemirror_mode": {
    "name": "ipython",
    "version": 2
   },
   "file_extension": ".py",
   "mimetype": "text/x-python",
   "name": "python",
   "nbconvert_exporter": "python",
   "pygments_lexer": "ipython2",
   "version": "2.7.6"
  }
 },
 "nbformat": 4,
 "nbformat_minor": 5
}
