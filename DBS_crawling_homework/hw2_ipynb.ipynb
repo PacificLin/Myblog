{
 "cells": [
  {
   "cell_type": "code",
   "execution_count": 73,
   "id": "initial_id",
   "metadata": {
    "collapsed": true,
    "ExecuteTime": {
     "end_time": "2023-09-07T12:23:04.305574900Z",
     "start_time": "2023-09-07T12:23:04.303553200Z"
    }
   },
   "outputs": [],
   "source": [
    "from bs4 import BeautifulSoup\n",
    "from selenium import webdriver\n",
    "from selenium.webdriver.support.ui import Select\n",
    "from webdriver_manager.chrome import ChromeDriverManager\n",
    "import time"
   ]
  },
  {
   "cell_type": "code",
   "execution_count": 74,
   "outputs": [],
   "source": [
    "from selenium import webdriver\n",
    "from webdriver_manager.chrome import ChromeDriverManager"
   ],
   "metadata": {
    "collapsed": false,
    "ExecuteTime": {
     "end_time": "2023-09-07T12:23:04.632916600Z",
     "start_time": "2023-09-07T12:23:04.632916600Z"
    }
   },
   "id": "5103a8087500aa0c"
  },
  {
   "cell_type": "code",
   "execution_count": 75,
   "outputs": [],
   "source": [
    "from selenium import webdriver\n",
    "from selenium.webdriver.chrome.service import Service\n",
    "service = Service(executable_path = \"chromedriver\")"
   ],
   "metadata": {
    "collapsed": false,
    "ExecuteTime": {
     "end_time": "2023-09-07T12:23:04.893693Z",
     "start_time": "2023-09-07T12:23:04.891180Z"
    }
   },
   "id": "d41560753aeafeb0"
  },
  {
   "cell_type": "code",
   "execution_count": 76,
   "outputs": [],
   "source": [
    "driver = webdriver.Chrome()"
   ],
   "metadata": {
    "collapsed": false,
    "ExecuteTime": {
     "end_time": "2023-09-07T12:23:06.979582Z",
     "start_time": "2023-09-07T12:23:05.341161500Z"
    }
   },
   "id": "3a3856b7104a0263"
  },
  {
   "cell_type": "code",
   "execution_count": 77,
   "outputs": [],
   "source": [
    "driver.get(\"https://structurednotes-announce.tdcc.com.tw/Snoteanc/\")"
   ],
   "metadata": {
    "collapsed": false,
    "ExecuteTime": {
     "end_time": "2023-09-07T12:23:07.591647300Z",
     "start_time": "2023-09-07T12:23:06.980579300Z"
    }
   },
   "id": "f10aebb16df4fd91"
  },
  {
   "cell_type": "code",
   "execution_count": 78,
   "outputs": [],
   "source": [
    "source = driver.page_source\n",
    "soup = BeautifulSoup(source, 'html.parser')"
   ],
   "metadata": {
    "collapsed": false,
    "ExecuteTime": {
     "end_time": "2023-09-07T12:23:10.734509500Z",
     "start_time": "2023-09-07T12:23:10.725124100Z"
    }
   },
   "id": "33f782232d036f6d"
  },
  {
   "cell_type": "code",
   "execution_count": 79,
   "outputs": [],
   "source": [
    "driver.switch_to.frame(\"Menu\")"
   ],
   "metadata": {
    "collapsed": false,
    "ExecuteTime": {
     "end_time": "2023-09-07T12:23:10.971924500Z",
     "start_time": "2023-09-07T12:23:10.919418300Z"
    }
   },
   "id": "6e512100c0f69d4b"
  },
  {
   "cell_type": "code",
   "execution_count": 80,
   "outputs": [],
   "source": [
    "from selenium.webdriver.common.by import By\n",
    "from selenium.webdriver.common.by import By\n",
    "element = driver.find_element(By.XPATH, \"/html/body/table/tbody/tr[4]/td/a/img\")\n",
    "element.click()"
   ],
   "metadata": {
    "collapsed": false,
    "ExecuteTime": {
     "end_time": "2023-09-07T12:23:11.157316400Z",
     "start_time": "2023-09-07T12:23:11.086845500Z"
    }
   },
   "id": "d80fd278a66f3b34"
  },
  {
   "cell_type": "code",
   "execution_count": 81,
   "outputs": [],
   "source": [
    "driver.switch_to.default_content()"
   ],
   "metadata": {
    "collapsed": false,
    "ExecuteTime": {
     "end_time": "2023-09-07T12:23:11.280757900Z",
     "start_time": "2023-09-07T12:23:11.278297300Z"
    }
   },
   "id": "cd4a3e1144a3e228"
  },
  {
   "cell_type": "code",
   "execution_count": 82,
   "outputs": [],
   "source": [
    "source_2 = driver.page_source\n",
    "soup_2 = BeautifulSoup(source_2, 'html.parser')"
   ],
   "metadata": {
    "collapsed": false,
    "ExecuteTime": {
     "end_time": "2023-09-07T12:23:11.505866400Z",
     "start_time": "2023-09-07T12:23:11.494809600Z"
    }
   },
   "id": "e230d852cfa6cf1b"
  },
  {
   "cell_type": "code",
   "execution_count": 83,
   "outputs": [],
   "source": [
    "driver.switch_to.frame(\"mainFrame\")"
   ],
   "metadata": {
    "collapsed": false,
    "ExecuteTime": {
     "end_time": "2023-09-07T12:23:12.185520700Z",
     "start_time": "2023-09-07T12:23:11.649552400Z"
    }
   },
   "id": "89175d1c8777adaa"
  },
  {
   "cell_type": "code",
   "execution_count": 84,
   "outputs": [],
   "source": [
    "select_institution = Select(driver.find_element(By.XPATH,\n",
    "                                        \"/html/body/form/table/tbody/tr[5]/td[2]/table/tbody/tr[3]/td[2]/div/select\"))"
   ],
   "metadata": {
    "collapsed": false,
    "ExecuteTime": {
     "end_time": "2023-09-07T12:23:12.210033400Z",
     "start_time": "2023-09-07T12:23:12.186517600Z"
    }
   },
   "id": "7a18c5dae0091ce0"
  },
  {
   "cell_type": "code",
   "execution_count": 85,
   "outputs": [],
   "source": [
    "select_institution.select_by_value(\"50d2d3aa:13e906cdbb7:-769a\")"
   ],
   "metadata": {
    "collapsed": false,
    "ExecuteTime": {
     "end_time": "2023-09-07T12:23:12.245438400Z",
     "start_time": "2023-09-07T12:23:12.202549600Z"
    }
   },
   "id": "392b53dd2656d1e4"
  },
  {
   "cell_type": "code",
   "execution_count": 86,
   "outputs": [],
   "source": [
    "element_2 = driver.find_element(By.XPATH, \"/html/body/form/table/tbody/tr[5]/td[2]/table/tbody/tr[10]/td/input\")\n",
    "element_2.click()"
   ],
   "metadata": {
    "collapsed": false,
    "ExecuteTime": {
     "end_time": "2023-09-07T12:23:14.037269500Z",
     "start_time": "2023-09-07T12:23:12.243443100Z"
    }
   },
   "id": "3c57d8313d53b20b"
  },
  {
   "cell_type": "code",
   "execution_count": 87,
   "outputs": [],
   "source": [
    "element_3 = driver.find_element(By.XPATH, \"/html/body/form/table/tbody/tr[7]/td[2]/table/tbody/tr[3]/td[2]/font/u\")\n",
    "element_3.click()"
   ],
   "metadata": {
    "collapsed": false,
    "ExecuteTime": {
     "end_time": "2023-09-07T12:23:14.124625500Z",
     "start_time": "2023-09-07T12:23:14.039266Z"
    }
   },
   "id": "5f9d680c27433d92"
  },
  {
   "cell_type": "code",
   "execution_count": 88,
   "outputs": [
    {
     "data": {
      "text/plain": "['B5B7A6AC6661EFC894A495DE26C977F6', 'E5E9D3C75D2953715008C4BF8B7D892B']"
     },
     "execution_count": 88,
     "metadata": {},
     "output_type": "execute_result"
    }
   ],
   "source": [
    "all_window_handles = driver.window_handles\n",
    "all_window_handles"
   ],
   "metadata": {
    "collapsed": false,
    "ExecuteTime": {
     "end_time": "2023-09-07T12:23:14.135322500Z",
     "start_time": "2023-09-07T12:23:14.124625500Z"
    }
   },
   "id": "a102384475044b6a"
  },
  {
   "cell_type": "code",
   "execution_count": 89,
   "outputs": [],
   "source": [
    "new_window_handle = all_window_handles[1]\n",
    "driver.switch_to.window(new_window_handle)"
   ],
   "metadata": {
    "collapsed": false,
    "ExecuteTime": {
     "end_time": "2023-09-07T12:23:14.137951500Z",
     "start_time": "2023-09-07T12:23:14.132557600Z"
    }
   },
   "id": "d922db115867ce07"
  },
  {
   "cell_type": "code",
   "execution_count": 90,
   "outputs": [
    {
     "data": {
      "text/plain": "[<table border=\"0\" cellpadding=\"0\" cellspacing=\"0\" width=\"100%\">\n <tbody><tr>\n <td width=\"20\"> </td>\n <td align=\"center\"><strong>商品總覽</strong></td>\n <td width=\"20\"><input onclick=\"window.print();return false;\" type=\"button\" value=\"列印\"/></td>\n </tr>\n </tbody></table>,\n <table border=\"0\" cellpadding=\"0\" cellspacing=\"0\">\n <tbody><tr>\n <td onclick=\"toggle('div1');openTab('tab1a', 'tab1');\" valign=\"bottom\"><img id=\"tab1\" src=\"/Snoteanc/images/b-tag01.gif\" style=\"display:none;\"/><img id=\"tab1a\" src=\"/Snoteanc/images/b-tag01a.gif\" style=\"display:inline;\"/></td>\n <td onclick=\"toggle('div2');openTab('tab2a', 'tab2');\" valign=\"bottom\"><img id=\"tab2\" src=\"/Snoteanc/images/b-tag02.gif\" style=\"display:inline;\"/><img id=\"tab2a\" src=\"/Snoteanc/images/b-tag02a.gif\" style=\"display:none;\"/></td>\n <td onclick=\"toggle('div3');openTab('tab3a', 'tab3');\" valign=\"bottom\"><img id=\"tab3\" src=\"/Snoteanc/images/b-tag03.gif\" style=\"display:inline;\"/><img id=\"tab3a\" src=\"/Snoteanc/images/b-tag03a.gif\" style=\"display:none;\"/></td>\n <td onclick=\"toggle('div4');openTab('tab4a', 'tab4');\" valign=\"bottom\"><img id=\"tab4\" src=\"/Snoteanc/images/b-tag04.gif\" style=\"display:inline;\"/><img id=\"tab4a\" src=\"/Snoteanc/images/b-tag04a.gif\" style=\"display:none;\"/></td>\n <td onclick=\"toggle('div5');openTab('tab5a', 'tab5');\" valign=\"bottom\"><img id=\"tab5\" src=\"/Snoteanc/images/b-tag05.gif\" style=\"display:inline;\"/><img id=\"tab5a\" src=\"/Snoteanc/images/b-tag05a.gif\" style=\"display:none;\"/></td>\n </tr>\n </tbody></table>,\n <table border=\"0\" cellpadding=\"0\" cellspacing=\"0\" id=\"div1\" style=\"display:inline;\" width=\"100%\">\n <tbody><tr>\n <td>\n <table border=\"1\" bordercolor=\"#D9B55C\" cellpadding=\"5\" cellspacing=\"0\" width=\"100%\">\n <tbody><tr>\n <td align=\"center\" colspan=\"4\" style=\"background-color:#f9e4b3;\">\n <strong>\n                             商品名稱<br/>\n                              10個月期美元計價每日觸發及逐步調降自動強制贖回股權連結結構型商品（無擔保及無保證機構） \n                         </strong>\n </td>\n </tr>\n <tr>\n <td colspan=\"4\"><strong><font size=\"2\">國外基本資料</font></strong></td>\n </tr>\n <tr>\n <td style=\"background-color:#f9e4b3;\" width=\"25%\"><div align=\"center\">\n <strong><font size=\"2\">商品英文名稱</font></strong></div></td>\n <td class=\"tc-maintxt10\" colspan=\"3\"><font size=\"2\">10-Month USD Daily Knock-in and Step-Down Auto Callable EquityLinked Notes </font></td>\n </tr>\n <tr>\n <td style=\"background-color:#f9e4b3;\" width=\"25%\"><div align=\"center\"><strong><font size=\"2\">發行機構</font></strong></div></td>\n <td width=\"25%\"><font size=\"2\">DBS Bank Ltd </font></td>\n <td align=\"right\" style=\"background-color:#f9e4b3;\" width=\"25%\"><div align=\"center\"><strong><font size=\"2\">保證機構</font></strong></div></td>\n <td class=\"tc-maintxt10\" width=\"25%\"><font size=\"2\"></font></td>\n </tr>\n <tr>\n <td align=\"right\" style=\"background-color:#f9e4b3;\"><div align=\"center\"><strong><font size=\"2\">商品發行日</font></strong></div></td>\n <td class=\"tc-maintxt10\"><font size=\"2\">2021/08/17 </font></td>\n <td align=\"right\" style=\"background-color:#f9e4b3;\"><div align=\"center\"><strong><font size=\"2\">商品到期日</font></strong></div></td>\n <td class=\"tc-maintxt10\"><font size=\"2\">2022/06/22 </font></td>\n </tr>\n <tr>\n <td align=\"right\" style=\"background-color:#f9e4b3;\"><div align=\"center\"><strong><font size=\"2\">ISIN/Common Code</font></strong></div></td>\n <td class=\"tc-maintxt10\"><font size=\"2\">XS2372121777 </font></td>\n <td align=\"right\" style=\"background-color:#f9e4b3;\"><div align=\"center\"><strong><font size=\"2\">商品註冊地</font></strong></div></td>\n <td class=\"tc-maintxt10\"><font size=\"2\"> </font></td>\n </tr>\n <tr>\n <td align=\"right\" style=\"background-color:#f9e4b3;\"><div align=\"center\"><strong><font size=\"2\">發行機構註冊地</font></strong></div></td>\n <td class=\"tc-maintxt10\"><font size=\"2\"> </font></td>\n <td align=\"right\" style=\"background-color:#f9e4b3;\"><div align=\"center\"><strong><font size=\"2\">商品準據法</font></strong></div></td>\n <td class=\"tc-maintxt10\"><font size=\"2\"> </font></td>\n </tr>\n <tr>\n <td align=\"right\" style=\"background-color:#f9e4b3;\"><div align=\"center\"><strong><font size=\"2\">發行機構長期債務信用評等</font></strong></div></td>\n <td class=\"tc-maintxt10\" colspan=\"3\"><font size=\"2\">Aa1（穆迪長期債務信用評等）/ AA-（惠譽長期債務信用評等） </font></td>\n </tr>\n <tr>\n <td align=\"right\" style=\"background-color:#f9e4b3;\"><div align=\"center\"><strong><font size=\"2\">保證機構長期債務信用評等</font></strong></div></td>\n <td class=\"tc-maintxt10\" colspan=\"3\"><font size=\"2\"> </font></td>\n </tr>\n <tr>\n <td align=\"right\" style=\"background-color:#f9e4b3;\"><div align=\"center\"><strong><font size=\"2\">商品發行評等</font></strong></div></td>\n <td class=\"tc-maintxt10\" colspan=\"3\"><font size=\"2\"> </font></td>\n </tr>\n <tr>\n <td align=\"right\" style=\"background-color:#f9e4b3;\"><div align=\"center\"><strong><font size=\"2\">登錄機構</font></strong></div></td>\n <td class=\"tc-maintxt10\"><font size=\"2\"> </font></td>\n <td align=\"right\" style=\"background-color:#f9e4b3;\"><div align=\"center\"><strong><font size=\"2\">清算機構</font></strong></div></td>\n <td class=\"tc-maintxt10\"><font size=\"2\"> </font></td>\n </tr>\n <tr>\n <td align=\"right\" style=\"background-color:#f9e4b3;\"><div align=\"center\"><strong><font size=\"2\">資產保管機構</font></strong></div></td>\n <td class=\"tc-maintxt10\"><font size=\"2\"> </font></td>\n <td align=\"right\" style=\"background-color:#f9e4b3;\"><div align=\"center\"><strong><font size=\"2\">現金保管機構</font></strong></div></td>\n <td class=\"tc-maintxt10\"><font size=\"2\"> </font></td>\n </tr>\n <tr>\n <td align=\"right\" style=\"background-color:#f9e4b3;\"><div align=\"center\"><strong><font size=\"2\">計算代理人</font></strong></div></td>\n <td class=\"tc-maintxt10\"><font size=\"2\"> </font></td>\n <td align=\"right\" style=\"background-color:#f9e4b3;\"><div align=\"center\"><strong><font size=\"2\">商品規模</font></strong></div></td>\n <td class=\"tc-maintxt10\"><font size=\"2\"> </font></td>\n </tr>\n <tr>\n <td colspan=\"4\"> </td>\n </tr>\n <tr>\n <td class=\"tc-maintxt10\" colspan=\"4\"><strong><font size=\"2\">國內基本資料</font></strong></td>\n </tr>\n <tr>\n <td align=\"center\" style=\"background-color:#f9e4b3;\"><div align=\"center\"><strong><font size=\"2\">商品代號</font></strong></div></td>\n <td class=\"tc-maintxt10\" colspan=\"3\"><font size=\"2\">078000018912 </font></td>\n </tr>\n <tr>\n <td align=\"center\" style=\"background-color:#f9e4b3;\"><div align=\"center\"><strong><font size=\"2\">商品名稱(簡稱)</font></strong></div></td>\n <td class=\"tc-maintxt10\" colspan=\"3\"><font size=\"2\">境外結構型商品DSNT18912 </font></td>\n </tr>\n <tr>\n <td align=\"center\" style=\"background-color:#f9e4b3;\"><div align=\"center\"><strong><font size=\"2\">發行人/總代理人代號</font></strong></div></td>\n <td class=\"tc-maintxt10\"><font size=\"2\">A0780000 </font></td>\n <td align=\"center\" style=\"background-color:#f9e4b3;\"><div align=\"center\"><strong><font size=\"2\">發行人/總代理人名稱</font></strong></div></td>\n <td class=\"tc-maintxt10\"><font size=\"2\">新加坡商星展銀行股份有限公司台北分行 </font></td>\n </tr>\n <tr>\n <td align=\"center\" style=\"background-color:#f9e4b3;\"><div align=\"center\"><strong><font size=\"2\">核准公會</font></strong></div></td>\n <td class=\"tc-maintxt10\" colspan=\"3\">\n <font size=\"2\">\n <table>\n </table>\n </font>\n </td>\n </tr>\n <tr>\n <td align=\"center\" style=\"background-color:#f9e4b3;\"><div align=\"center\"><strong><font size=\"2\">公會核准日期</font></strong></div></td>\n <td class=\"tc-maintxt10\"><font size=\"2\"> </font></td>\n <td align=\"center\" style=\"background-color:#f9e4b3;\"><div align=\"center\"><strong><font size=\"2\">公會核准文號</font></strong></div></td>\n <td class=\"tc-maintxt10\"><font size=\"2\"> </font></td>\n </tr>\n <tr>\n <td align=\"center\" style=\"background-color:#f9e4b3;\"><div align=\"center\"><strong><font size=\"2\">商品國內發行日</font></strong></div></td>\n <td class=\"tc-maintxt10\"><font size=\"2\">2021/08/17 </font></td>\n <td align=\"center\" style=\"background-color:#f9e4b3;\"><div align=\"center\"><strong><font size=\"2\">商品終止生效日</font></strong></div></td>\n <td class=\"tc-maintxt10\"><font size=\"2\">2021/09/24 </font></td>\n </tr>\n <tr>\n <td align=\"center\" style=\"background-color:#f9e4b3;\"><div align=\"center\"><strong><font size=\"2\">幣別</font></strong></div></td>\n <td class=\"tc-maintxt10\"><font size=\"2\">美元 </font></td>\n <td align=\"center\" style=\"background-color:#f9e4b3;\"><div align=\"center\"><strong><font size=\"2\">國內核准銷售規模</font></strong></div></td>\n <td class=\"tc-maintxt10\"><font size=\"2\"> </font></td>\n </tr>\n <tr>\n <td align=\"center\" style=\"background-color:#f9e4b3;\"><div align=\"center\"><strong><font size=\"2\">每單位面額</font></strong></div></td>\n <td class=\"tc-maintxt10\"><font size=\"2\"> </font></td>\n <td align=\"center\" style=\"background-color:#f9e4b3;\"><div align=\"center\"><strong><font size=\"2\">商品發行價格</font></strong></div></td>\n <td class=\"tc-maintxt10\"><font size=\"2\"> </font></td>\n </tr>\n <tr>\n <td align=\"center\" style=\"background-color:#f9e4b3;\"><div align=\"center\"><strong><font size=\"2\">最低申購金額</font></strong></div></td>\n <td class=\"tc-maintxt10\"><font size=\"2\"> </font></td>\n <td align=\"center\" style=\"background-color:#f9e4b3;\"><div align=\"center\"><strong><font size=\"2\">計價貨幣本金保本率</font></strong></div></td>\n <td class=\"tc-maintxt10\"><font size=\"2\">0% </font></td>\n </tr>\n <tr>\n <td align=\"center\" style=\"background-color:#f9e4b3;\"><div align=\"center\"><strong><font size=\"2\">連結標的類別</font></strong></div></td>\n <td class=\"tc-maintxt10\"><font size=\"2\">\n <table>\n <tbody><tr>\n <td>股權</td>\n </tr>\n </tbody></table>\n </font>\n </td>\n <td align=\"center\" style=\"background-color:#f9e4b3;\"><div align=\"center\"><strong><font size=\"2\">商品類別</font></strong></div></td>\n <td class=\"tc-maintxt10\"><font size=\"2\">不適用 </font></td>\n </tr>\n <tr>\n <td align=\"center\" style=\"background-color:#f9e4b3;\"><div align=\"center\"><strong><font size=\"2\">其他連結標的類別說明</font></strong></div></td>\n <td class=\"tc-maintxt10\" colspan=\"3\"><font size=\"2\"> </font></td>\n </tr>\n <tr>\n <td align=\"center\" style=\"background-color:#f9e4b3;\"><div align=\"center\"><strong><font size=\"2\">連結標的</font></strong></div></td>\n <td class=\"tc-maintxt10\" colspan=\"3\"><font size=\"2\">1. 特斯拉公司(TESLA INC)之普通股票；及2. 帕蘭提爾科技公司 (PALANTIR TECHNOLOGIES INC-A)之普通股票。 </font></td>\n </tr>\n <tr>\n <td align=\"center\" style=\"background-color:#f9e4b3;\"><div align=\"center\"><strong><font size=\"2\">是否有目標式贖回設計</font></strong></div></td>\n <td class=\"tc-maintxt10\"><font size=\"2\"> </font></td>\n <td align=\"center\" style=\"background-color:#f9e4b3;\"><div align=\"center\"><strong><font size=\"2\">是否有發行機構提前贖回之選擇權</font></strong></div></td>\n <td class=\"tc-maintxt10\"><font size=\"2\"> </font></td>\n </tr>\n <tr>\n <td align=\"center\" style=\"background-color:#f9e4b3;\"><div align=\"center\"><strong><font size=\"2\">受託銷售機構之類型化商品審查依特別規定辦理，<br/>不適用境外結構型商品管理規則第20條第1項所定之規定</font></strong></div></td>\n <td class=\"tc-maintxt10\" colspan=\"3\"><font size=\"2\"> </font></td>\n </tr>\n <tr>\n <td align=\"center\" style=\"background-color:#f9e4b3;\"><div align=\"center\"><strong><font size=\"2\">商品狀態</font></strong></div></td>\n <td class=\"tc-maintxt10\"><font size=\"2\">提前贖回 </font></td>\n <td align=\"center\" style=\"background-color:#f9e4b3;\"><div align=\"center\"><strong><font size=\"2\">是否限定專業投資人</font></strong></div></td>\n <td class=\"tc-maintxt10\"><font size=\"2\">專業投資人 </font></td>\n </tr>\n </tbody></table>\n </td>\n </tr>\n <tr>\n <td> </td>\n <td> </td>\n <td> </td>\n </tr>\n </tbody></table>,\n <table border=\"1\" bordercolor=\"#D9B55C\" cellpadding=\"5\" cellspacing=\"0\" width=\"100%\">\n <tbody><tr>\n <td align=\"center\" colspan=\"4\" style=\"background-color:#f9e4b3;\">\n <strong>\n                             商品名稱<br/>\n                              10個月期美元計價每日觸發及逐步調降自動強制贖回股權連結結構型商品（無擔保及無保證機構） \n                         </strong>\n </td>\n </tr>\n <tr>\n <td colspan=\"4\"><strong><font size=\"2\">國外基本資料</font></strong></td>\n </tr>\n <tr>\n <td style=\"background-color:#f9e4b3;\" width=\"25%\"><div align=\"center\">\n <strong><font size=\"2\">商品英文名稱</font></strong></div></td>\n <td class=\"tc-maintxt10\" colspan=\"3\"><font size=\"2\">10-Month USD Daily Knock-in and Step-Down Auto Callable EquityLinked Notes </font></td>\n </tr>\n <tr>\n <td style=\"background-color:#f9e4b3;\" width=\"25%\"><div align=\"center\"><strong><font size=\"2\">發行機構</font></strong></div></td>\n <td width=\"25%\"><font size=\"2\">DBS Bank Ltd </font></td>\n <td align=\"right\" style=\"background-color:#f9e4b3;\" width=\"25%\"><div align=\"center\"><strong><font size=\"2\">保證機構</font></strong></div></td>\n <td class=\"tc-maintxt10\" width=\"25%\"><font size=\"2\"></font></td>\n </tr>\n <tr>\n <td align=\"right\" style=\"background-color:#f9e4b3;\"><div align=\"center\"><strong><font size=\"2\">商品發行日</font></strong></div></td>\n <td class=\"tc-maintxt10\"><font size=\"2\">2021/08/17 </font></td>\n <td align=\"right\" style=\"background-color:#f9e4b3;\"><div align=\"center\"><strong><font size=\"2\">商品到期日</font></strong></div></td>\n <td class=\"tc-maintxt10\"><font size=\"2\">2022/06/22 </font></td>\n </tr>\n <tr>\n <td align=\"right\" style=\"background-color:#f9e4b3;\"><div align=\"center\"><strong><font size=\"2\">ISIN/Common Code</font></strong></div></td>\n <td class=\"tc-maintxt10\"><font size=\"2\">XS2372121777 </font></td>\n <td align=\"right\" style=\"background-color:#f9e4b3;\"><div align=\"center\"><strong><font size=\"2\">商品註冊地</font></strong></div></td>\n <td class=\"tc-maintxt10\"><font size=\"2\"> </font></td>\n </tr>\n <tr>\n <td align=\"right\" style=\"background-color:#f9e4b3;\"><div align=\"center\"><strong><font size=\"2\">發行機構註冊地</font></strong></div></td>\n <td class=\"tc-maintxt10\"><font size=\"2\"> </font></td>\n <td align=\"right\" style=\"background-color:#f9e4b3;\"><div align=\"center\"><strong><font size=\"2\">商品準據法</font></strong></div></td>\n <td class=\"tc-maintxt10\"><font size=\"2\"> </font></td>\n </tr>\n <tr>\n <td align=\"right\" style=\"background-color:#f9e4b3;\"><div align=\"center\"><strong><font size=\"2\">發行機構長期債務信用評等</font></strong></div></td>\n <td class=\"tc-maintxt10\" colspan=\"3\"><font size=\"2\">Aa1（穆迪長期債務信用評等）/ AA-（惠譽長期債務信用評等） </font></td>\n </tr>\n <tr>\n <td align=\"right\" style=\"background-color:#f9e4b3;\"><div align=\"center\"><strong><font size=\"2\">保證機構長期債務信用評等</font></strong></div></td>\n <td class=\"tc-maintxt10\" colspan=\"3\"><font size=\"2\"> </font></td>\n </tr>\n <tr>\n <td align=\"right\" style=\"background-color:#f9e4b3;\"><div align=\"center\"><strong><font size=\"2\">商品發行評等</font></strong></div></td>\n <td class=\"tc-maintxt10\" colspan=\"3\"><font size=\"2\"> </font></td>\n </tr>\n <tr>\n <td align=\"right\" style=\"background-color:#f9e4b3;\"><div align=\"center\"><strong><font size=\"2\">登錄機構</font></strong></div></td>\n <td class=\"tc-maintxt10\"><font size=\"2\"> </font></td>\n <td align=\"right\" style=\"background-color:#f9e4b3;\"><div align=\"center\"><strong><font size=\"2\">清算機構</font></strong></div></td>\n <td class=\"tc-maintxt10\"><font size=\"2\"> </font></td>\n </tr>\n <tr>\n <td align=\"right\" style=\"background-color:#f9e4b3;\"><div align=\"center\"><strong><font size=\"2\">資產保管機構</font></strong></div></td>\n <td class=\"tc-maintxt10\"><font size=\"2\"> </font></td>\n <td align=\"right\" style=\"background-color:#f9e4b3;\"><div align=\"center\"><strong><font size=\"2\">現金保管機構</font></strong></div></td>\n <td class=\"tc-maintxt10\"><font size=\"2\"> </font></td>\n </tr>\n <tr>\n <td align=\"right\" style=\"background-color:#f9e4b3;\"><div align=\"center\"><strong><font size=\"2\">計算代理人</font></strong></div></td>\n <td class=\"tc-maintxt10\"><font size=\"2\"> </font></td>\n <td align=\"right\" style=\"background-color:#f9e4b3;\"><div align=\"center\"><strong><font size=\"2\">商品規模</font></strong></div></td>\n <td class=\"tc-maintxt10\"><font size=\"2\"> </font></td>\n </tr>\n <tr>\n <td colspan=\"4\"> </td>\n </tr>\n <tr>\n <td class=\"tc-maintxt10\" colspan=\"4\"><strong><font size=\"2\">國內基本資料</font></strong></td>\n </tr>\n <tr>\n <td align=\"center\" style=\"background-color:#f9e4b3;\"><div align=\"center\"><strong><font size=\"2\">商品代號</font></strong></div></td>\n <td class=\"tc-maintxt10\" colspan=\"3\"><font size=\"2\">078000018912 </font></td>\n </tr>\n <tr>\n <td align=\"center\" style=\"background-color:#f9e4b3;\"><div align=\"center\"><strong><font size=\"2\">商品名稱(簡稱)</font></strong></div></td>\n <td class=\"tc-maintxt10\" colspan=\"3\"><font size=\"2\">境外結構型商品DSNT18912 </font></td>\n </tr>\n <tr>\n <td align=\"center\" style=\"background-color:#f9e4b3;\"><div align=\"center\"><strong><font size=\"2\">發行人/總代理人代號</font></strong></div></td>\n <td class=\"tc-maintxt10\"><font size=\"2\">A0780000 </font></td>\n <td align=\"center\" style=\"background-color:#f9e4b3;\"><div align=\"center\"><strong><font size=\"2\">發行人/總代理人名稱</font></strong></div></td>\n <td class=\"tc-maintxt10\"><font size=\"2\">新加坡商星展銀行股份有限公司台北分行 </font></td>\n </tr>\n <tr>\n <td align=\"center\" style=\"background-color:#f9e4b3;\"><div align=\"center\"><strong><font size=\"2\">核准公會</font></strong></div></td>\n <td class=\"tc-maintxt10\" colspan=\"3\">\n <font size=\"2\">\n <table>\n </table>\n </font>\n </td>\n </tr>\n <tr>\n <td align=\"center\" style=\"background-color:#f9e4b3;\"><div align=\"center\"><strong><font size=\"2\">公會核准日期</font></strong></div></td>\n <td class=\"tc-maintxt10\"><font size=\"2\"> </font></td>\n <td align=\"center\" style=\"background-color:#f9e4b3;\"><div align=\"center\"><strong><font size=\"2\">公會核准文號</font></strong></div></td>\n <td class=\"tc-maintxt10\"><font size=\"2\"> </font></td>\n </tr>\n <tr>\n <td align=\"center\" style=\"background-color:#f9e4b3;\"><div align=\"center\"><strong><font size=\"2\">商品國內發行日</font></strong></div></td>\n <td class=\"tc-maintxt10\"><font size=\"2\">2021/08/17 </font></td>\n <td align=\"center\" style=\"background-color:#f9e4b3;\"><div align=\"center\"><strong><font size=\"2\">商品終止生效日</font></strong></div></td>\n <td class=\"tc-maintxt10\"><font size=\"2\">2021/09/24 </font></td>\n </tr>\n <tr>\n <td align=\"center\" style=\"background-color:#f9e4b3;\"><div align=\"center\"><strong><font size=\"2\">幣別</font></strong></div></td>\n <td class=\"tc-maintxt10\"><font size=\"2\">美元 </font></td>\n <td align=\"center\" style=\"background-color:#f9e4b3;\"><div align=\"center\"><strong><font size=\"2\">國內核准銷售規模</font></strong></div></td>\n <td class=\"tc-maintxt10\"><font size=\"2\"> </font></td>\n </tr>\n <tr>\n <td align=\"center\" style=\"background-color:#f9e4b3;\"><div align=\"center\"><strong><font size=\"2\">每單位面額</font></strong></div></td>\n <td class=\"tc-maintxt10\"><font size=\"2\"> </font></td>\n <td align=\"center\" style=\"background-color:#f9e4b3;\"><div align=\"center\"><strong><font size=\"2\">商品發行價格</font></strong></div></td>\n <td class=\"tc-maintxt10\"><font size=\"2\"> </font></td>\n </tr>\n <tr>\n <td align=\"center\" style=\"background-color:#f9e4b3;\"><div align=\"center\"><strong><font size=\"2\">最低申購金額</font></strong></div></td>\n <td class=\"tc-maintxt10\"><font size=\"2\"> </font></td>\n <td align=\"center\" style=\"background-color:#f9e4b3;\"><div align=\"center\"><strong><font size=\"2\">計價貨幣本金保本率</font></strong></div></td>\n <td class=\"tc-maintxt10\"><font size=\"2\">0% </font></td>\n </tr>\n <tr>\n <td align=\"center\" style=\"background-color:#f9e4b3;\"><div align=\"center\"><strong><font size=\"2\">連結標的類別</font></strong></div></td>\n <td class=\"tc-maintxt10\"><font size=\"2\">\n <table>\n <tbody><tr>\n <td>股權</td>\n </tr>\n </tbody></table>\n </font>\n </td>\n <td align=\"center\" style=\"background-color:#f9e4b3;\"><div align=\"center\"><strong><font size=\"2\">商品類別</font></strong></div></td>\n <td class=\"tc-maintxt10\"><font size=\"2\">不適用 </font></td>\n </tr>\n <tr>\n <td align=\"center\" style=\"background-color:#f9e4b3;\"><div align=\"center\"><strong><font size=\"2\">其他連結標的類別說明</font></strong></div></td>\n <td class=\"tc-maintxt10\" colspan=\"3\"><font size=\"2\"> </font></td>\n </tr>\n <tr>\n <td align=\"center\" style=\"background-color:#f9e4b3;\"><div align=\"center\"><strong><font size=\"2\">連結標的</font></strong></div></td>\n <td class=\"tc-maintxt10\" colspan=\"3\"><font size=\"2\">1. 特斯拉公司(TESLA INC)之普通股票；及2. 帕蘭提爾科技公司 (PALANTIR TECHNOLOGIES INC-A)之普通股票。 </font></td>\n </tr>\n <tr>\n <td align=\"center\" style=\"background-color:#f9e4b3;\"><div align=\"center\"><strong><font size=\"2\">是否有目標式贖回設計</font></strong></div></td>\n <td class=\"tc-maintxt10\"><font size=\"2\"> </font></td>\n <td align=\"center\" style=\"background-color:#f9e4b3;\"><div align=\"center\"><strong><font size=\"2\">是否有發行機構提前贖回之選擇權</font></strong></div></td>\n <td class=\"tc-maintxt10\"><font size=\"2\"> </font></td>\n </tr>\n <tr>\n <td align=\"center\" style=\"background-color:#f9e4b3;\"><div align=\"center\"><strong><font size=\"2\">受託銷售機構之類型化商品審查依特別規定辦理，<br/>不適用境外結構型商品管理規則第20條第1項所定之規定</font></strong></div></td>\n <td class=\"tc-maintxt10\" colspan=\"3\"><font size=\"2\"> </font></td>\n </tr>\n <tr>\n <td align=\"center\" style=\"background-color:#f9e4b3;\"><div align=\"center\"><strong><font size=\"2\">商品狀態</font></strong></div></td>\n <td class=\"tc-maintxt10\"><font size=\"2\">提前贖回 </font></td>\n <td align=\"center\" style=\"background-color:#f9e4b3;\"><div align=\"center\"><strong><font size=\"2\">是否限定專業投資人</font></strong></div></td>\n <td class=\"tc-maintxt10\"><font size=\"2\">專業投資人 </font></td>\n </tr>\n </tbody></table>,\n <table>\n </table>,\n <table>\n <tbody><tr>\n <td>股權</td>\n </tr>\n </tbody></table>,\n <table border=\"0\" cellpadding=\"0\" cellspacing=\"0\" width=\"100%\">\n <tbody><tr>\n <td>\n <table border=\"1\" bordercolor=\"#D9B55C\" cellpadding=\"5\" cellspacing=\"0\" width=\"100%\">\n <tbody><tr>\n <td align=\"center\" colspan=\"4\" style=\"background-color:#f9e4b3;\">\n <strong>\n                             商品名稱<br/>\n                              10個月期美元計價每日觸發及逐步調降自動強制贖回股權連結結構型商品（無擔保及無保證機構） \n                         </strong>\n </td>\n </tr>\n <tr>\n <td colspan=\"4\"><strong><font size=\"2\">各項費用及資金給付資訊</font></strong></td>\n </tr>\n <tr>\n <td style=\"background-color:#f9e4b3;\" width=\"25%\"><div align=\"center\"><strong><font size=\"2\">最低申購金額</font></strong></div></td>\n <td class=\"tc-maintxt10\" colspan=\"3\"><font size=\"2\"></font></td>\n </tr>\n <tr>\n <td style=\"background-color:#f9e4b3;\" width=\"25%\"><div align=\"center\"><strong><font size=\"2\">投資人應負擔之各項費用及金額或計算基準</font></strong></div></td>\n <td class=\"tc-maintxt10\" colspan=\"3\"><font size=\"2\"> </font></td>\n </tr>\n <tr>\n <td align=\"right\" style=\"background-color:#f9e4b3;\"><div align=\"center\"><strong><font size=\"2\">申購價金之計算公式</font></strong></div></td>\n <td class=\"tc-maintxt10\" colspan=\"3\"><font size=\"2\"> </font></td>\n </tr>\n <tr>\n <td align=\"right\" style=\"background-color:#f9e4b3;\"><div align=\"center\"><strong><font size=\"2\">申購手續及資金給付方式</font></strong></div></td>\n <td class=\"tc-maintxt10\" colspan=\"3\"><font size=\"2\"> </font></td>\n </tr>\n <tr>\n <td class=\"tc-maintxt10\" colspan=\"4\"><strong><font size=\"2\">商品銷售資訊</font></strong></td>\n </tr>\n <tr>\n <td align=\"right\" style=\"background-color:#f9e4b3;\"><div align=\"center\"><strong><font size=\"2\">開始受理申購日期</font></strong></div></td>\n <td class=\"tc-maintxt10\" width=\"25%\"><font size=\"2\"> </font></td>\n <td align=\"right\" style=\"background-color:#f9e4b3;\" width=\"25%\"><div align=\"center\"><strong><font size=\"2\">開始受理贖回日期</font></strong></div></td>\n <td class=\"tc-maintxt10\"><font size=\"2\" width=\"25%\"> </font></td>\n </tr>\n <tr>\n <td align=\"right\" style=\"background-color:#f9e4b3;\"><div align=\"center\"><strong><font size=\"2\">每營業日受理申購截止時間</font></strong></div></td>\n <td class=\"tc-maintxt10\" width=\"25%\"><font size=\"2\"> </font></td>\n <td align=\"right\" style=\"background-color:#f9e4b3;\" width=\"25%\"><div align=\"center\"><strong><font size=\"2\">每營業日受理贖回截止時間</font></strong></div></td>\n <td class=\"tc-maintxt10\"><font size=\"2\" width=\"25%\"> </font></td>\n </tr>\n <tr>\n <td align=\"right\" style=\"background-color:#f9e4b3;\"><div align=\"center\"><strong><font size=\"2\">申購條款</font></strong></div></td>\n <td class=\"tc-maintxt10\" colspan=\"3\"><font size=\"2\"> </font></td>\n </tr>\n <tr>\n <td align=\"right\" style=\"background-color:#f9e4b3;\"><div align=\"center\"><strong><font size=\"2\">贖回條款</font></strong></div></td>\n <td class=\"tc-maintxt10\" colspan=\"3\"><font size=\"2\"> </font></td>\n </tr>\n <tr>\n <td align=\"right\" style=\"background-color:#f9e4b3;\"><div align=\"center\"><strong><font size=\"2\">商品到期贖回計算方式</font></strong></div></td>\n <td class=\"tc-maintxt10\" colspan=\"3\"><font size=\"2\"> </font></td>\n </tr>\n <tr>\n <td align=\"right\" style=\"background-color:#f9e4b3;\"><div align=\"center\"><strong><font size=\"2\">與國外相當之交易條件</font></strong></div></td>\n <td class=\"tc-maintxt10\" colspan=\"3\"><font size=\"2\"> </font></td>\n </tr>\n </tbody></table>\n </td>\n </tr>\n <tr>\n <td>\n <table border=\"1\" bordercolor=\"#D9B55C\" cellpadding=\"5\" cellspacing=\"0\" class=\"tc-maintxt10\" width=\"100%\">\n <tbody><tr>\n <td class=\"tc-maintxt10\" colspan=\"4\"><strong><font size=\"2\">受託或銷售機構相關資訊</font></strong></td>\n </tr>\n <tr>\n <td style=\"background-color:#f9e4b3;\" width=\"15%\"><div align=\"center\"><strong><font size=\"2\">受託或銷售機構代號</font></strong></div></td>\n <td style=\"background-color:#f9e4b3;\" width=\"35%\"><div align=\"center\"><strong><font size=\"2\">受託或銷售機構名稱</font></strong></div></td>\n <td style=\"background-color:#f9e4b3;\" width=\"15%\"><div align=\"center\"><strong><font size=\"2\">電話</font></strong></div></td>\n <td style=\"background-color:#f9e4b3;\" width=\"35%\"><div align=\"center\"><strong><font size=\"2\">受託或銷售機構網址</font></strong></div></td>\n </tr>\n <tr>\n <td class=\"tc-maintxt10\"><font size=\"2\">S8100000 </font></td>\n <td class=\"tc-maintxt10\"><font size=\"2\">星展(台灣)商業銀行股份有限公司 </font></td>\n <td class=\"tc-maintxt10\"><font size=\"2\">(02) 6612-9889 </font></td>\n <td class=\"tc-maintxt10\">\n <a href=\"http://www.dbs.com/tw/\" target=\"_blank\">\n <font size=\"2\">http://www.dbs.com/tw/ </font>\n </a>\n </td>\n </tr>\n </tbody></table>\n </td>\n </tr>\n </tbody></table>,\n <table border=\"1\" bordercolor=\"#D9B55C\" cellpadding=\"5\" cellspacing=\"0\" width=\"100%\">\n <tbody><tr>\n <td align=\"center\" colspan=\"4\" style=\"background-color:#f9e4b3;\">\n <strong>\n                             商品名稱<br/>\n                              10個月期美元計價每日觸發及逐步調降自動強制贖回股權連結結構型商品（無擔保及無保證機構） \n                         </strong>\n </td>\n </tr>\n <tr>\n <td colspan=\"4\"><strong><font size=\"2\">各項費用及資金給付資訊</font></strong></td>\n </tr>\n <tr>\n <td style=\"background-color:#f9e4b3;\" width=\"25%\"><div align=\"center\"><strong><font size=\"2\">最低申購金額</font></strong></div></td>\n <td class=\"tc-maintxt10\" colspan=\"3\"><font size=\"2\"></font></td>\n </tr>\n <tr>\n <td style=\"background-color:#f9e4b3;\" width=\"25%\"><div align=\"center\"><strong><font size=\"2\">投資人應負擔之各項費用及金額或計算基準</font></strong></div></td>\n <td class=\"tc-maintxt10\" colspan=\"3\"><font size=\"2\"> </font></td>\n </tr>\n <tr>\n <td align=\"right\" style=\"background-color:#f9e4b3;\"><div align=\"center\"><strong><font size=\"2\">申購價金之計算公式</font></strong></div></td>\n <td class=\"tc-maintxt10\" colspan=\"3\"><font size=\"2\"> </font></td>\n </tr>\n <tr>\n <td align=\"right\" style=\"background-color:#f9e4b3;\"><div align=\"center\"><strong><font size=\"2\">申購手續及資金給付方式</font></strong></div></td>\n <td class=\"tc-maintxt10\" colspan=\"3\"><font size=\"2\"> </font></td>\n </tr>\n <tr>\n <td class=\"tc-maintxt10\" colspan=\"4\"><strong><font size=\"2\">商品銷售資訊</font></strong></td>\n </tr>\n <tr>\n <td align=\"right\" style=\"background-color:#f9e4b3;\"><div align=\"center\"><strong><font size=\"2\">開始受理申購日期</font></strong></div></td>\n <td class=\"tc-maintxt10\" width=\"25%\"><font size=\"2\"> </font></td>\n <td align=\"right\" style=\"background-color:#f9e4b3;\" width=\"25%\"><div align=\"center\"><strong><font size=\"2\">開始受理贖回日期</font></strong></div></td>\n <td class=\"tc-maintxt10\"><font size=\"2\" width=\"25%\"> </font></td>\n </tr>\n <tr>\n <td align=\"right\" style=\"background-color:#f9e4b3;\"><div align=\"center\"><strong><font size=\"2\">每營業日受理申購截止時間</font></strong></div></td>\n <td class=\"tc-maintxt10\" width=\"25%\"><font size=\"2\"> </font></td>\n <td align=\"right\" style=\"background-color:#f9e4b3;\" width=\"25%\"><div align=\"center\"><strong><font size=\"2\">每營業日受理贖回截止時間</font></strong></div></td>\n <td class=\"tc-maintxt10\"><font size=\"2\" width=\"25%\"> </font></td>\n </tr>\n <tr>\n <td align=\"right\" style=\"background-color:#f9e4b3;\"><div align=\"center\"><strong><font size=\"2\">申購條款</font></strong></div></td>\n <td class=\"tc-maintxt10\" colspan=\"3\"><font size=\"2\"> </font></td>\n </tr>\n <tr>\n <td align=\"right\" style=\"background-color:#f9e4b3;\"><div align=\"center\"><strong><font size=\"2\">贖回條款</font></strong></div></td>\n <td class=\"tc-maintxt10\" colspan=\"3\"><font size=\"2\"> </font></td>\n </tr>\n <tr>\n <td align=\"right\" style=\"background-color:#f9e4b3;\"><div align=\"center\"><strong><font size=\"2\">商品到期贖回計算方式</font></strong></div></td>\n <td class=\"tc-maintxt10\" colspan=\"3\"><font size=\"2\"> </font></td>\n </tr>\n <tr>\n <td align=\"right\" style=\"background-color:#f9e4b3;\"><div align=\"center\"><strong><font size=\"2\">與國外相當之交易條件</font></strong></div></td>\n <td class=\"tc-maintxt10\" colspan=\"3\"><font size=\"2\"> </font></td>\n </tr>\n </tbody></table>,\n <table border=\"1\" bordercolor=\"#D9B55C\" cellpadding=\"5\" cellspacing=\"0\" class=\"tc-maintxt10\" width=\"100%\">\n <tbody><tr>\n <td class=\"tc-maintxt10\" colspan=\"4\"><strong><font size=\"2\">受託或銷售機構相關資訊</font></strong></td>\n </tr>\n <tr>\n <td style=\"background-color:#f9e4b3;\" width=\"15%\"><div align=\"center\"><strong><font size=\"2\">受託或銷售機構代號</font></strong></div></td>\n <td style=\"background-color:#f9e4b3;\" width=\"35%\"><div align=\"center\"><strong><font size=\"2\">受託或銷售機構名稱</font></strong></div></td>\n <td style=\"background-color:#f9e4b3;\" width=\"15%\"><div align=\"center\"><strong><font size=\"2\">電話</font></strong></div></td>\n <td style=\"background-color:#f9e4b3;\" width=\"35%\"><div align=\"center\"><strong><font size=\"2\">受託或銷售機構網址</font></strong></div></td>\n </tr>\n <tr>\n <td class=\"tc-maintxt10\"><font size=\"2\">S8100000 </font></td>\n <td class=\"tc-maintxt10\"><font size=\"2\">星展(台灣)商業銀行股份有限公司 </font></td>\n <td class=\"tc-maintxt10\"><font size=\"2\">(02) 6612-9889 </font></td>\n <td class=\"tc-maintxt10\">\n <a href=\"http://www.dbs.com/tw/\" target=\"_blank\">\n <font size=\"2\">http://www.dbs.com/tw/ </font>\n </a>\n </td>\n </tr>\n </tbody></table>,\n <table border=\"0\" cellpadding=\"0\" cellspacing=\"0\" width=\"100%\">\n <tbody><tr>\n <td>\n <table border=\"1\" bordercolor=\"#D9B55C\" cellpadding=\"5\" cellspacing=\"0\" class=\"tc-maintxt10\" width=\"100%\">\n <tbody><tr>\n <td align=\"center\" colspan=\"4\" style=\"background-color:#f9e4b3;\">\n <strong>\n                             商品名稱<br/>\n                              10個月期美元計價每日觸發及逐步調降自動強制贖回股權連結結構型商品（無擔保及無保證機構） \n                         </strong>\n </td>\n </tr>\n <tr>\n <td colspan=\"4\"><strong><font size=\"2\">商品公開資訊</font></strong></td>\n </tr>\n <tr>\n <td align=\"right\" style=\"background-color:#f9e4b3;\" width=\"25%\"><div align=\"center\"><strong><font size=\"2\">開始受理贖回日期</font></strong></div></td>\n <td class=\"tc-maintxt10\"><font size=\"2\" width=\"25%\"> </font></td>\n <td align=\"right\" style=\"background-color:#f9e4b3;\" width=\"25%\"><div align=\"center\"><strong><font size=\"2\">每營業日受理贖回截止時間</font></strong></div></td>\n <td class=\"tc-maintxt10\"><font size=\"2\" width=\"25%\"> </font></td>\n </tr>\n <tr>\n <td style=\"background-color:#f9e4b3;\"><div align=\"center\"><strong><font size=\"2\">中文產品說明書/投資人須知及其分送方式或取閱地點</font></strong></div></td>\n <td class=\"tc-maintxt10\" colspan=\"3\"><font size=\"2\"> </font></td>\n </tr>\n <tr>\n <td style=\"background-color:#f9e4b3;\"><div align=\"center\"><strong><font size=\"2\">投資風險警語</font></strong></div></td>\n <td class=\"tc-maintxt10\" colspan=\"3\"><font size=\"2\"> </font></td>\n </tr>\n <tr>\n <td align=\"center\" colspan=\"4\">\n <table border=\"1\" bordercolor=\"#D9B55C\" cellpadding=\"5\" cellspacing=\"0\" width=\"50%\">\n <tbody><tr>\n <td align=\"center\" style=\"background-color:#f9e4b3;\"><strong><font size=\"2\">資料日期</font></strong></td>\n <td align=\"center\" style=\"background-color:#f9e4b3;\"><strong><font size=\"2\">資料類別</font></strong></td>\n <td align=\"center\" style=\"background-color:#f9e4b3;\"><strong><font size=\"2\">檔案下載</font></strong></td>\n </tr>\n <tr>\n <td>\n <font size=\"2\">2022</font>\n </td>\n <td>\n <font size=\"2\">財務報告</font>\n </td>\n <td>\n <font size=\"2\">\n <a href=\"/Snoteanc/downloadFile?module=005&amp;fn=1681110830363.zip\">檔案下載</a>\n </font>\n </td>\n </tr>\n <tr>\n <td>\n <font size=\"2\">2021</font>\n </td>\n <td>\n <font size=\"2\">財務報告</font>\n </td>\n <td>\n <font size=\"2\">\n <a href=\"/Snoteanc/downloadFile?module=005&amp;fn=1649641593307.zip\">檔案下載</a>\n </font>\n </td>\n </tr>\n <tr>\n <td>\n <font size=\"2\">2020</font>\n </td>\n <td>\n <font size=\"2\">財務報告</font>\n </td>\n <td>\n <font size=\"2\">\n <a href=\"/Snoteanc/downloadFile?module=005&amp;fn=1615773862332.zip\">檔案下載</a>\n </font>\n </td>\n </tr>\n <tr>\n <td>\n <font size=\"2\">2019</font>\n </td>\n <td>\n <font size=\"2\">財務報告</font>\n </td>\n <td>\n <font size=\"2\">\n <a href=\"/Snoteanc/downloadFile?module=005&amp;fn=1585542207618.zip\">檔案下載</a>\n </font>\n </td>\n </tr>\n <tr>\n <td>\n <font size=\"2\">2018</font>\n </td>\n <td>\n <font size=\"2\">財務報告</font>\n </td>\n <td>\n <font size=\"2\">\n <a href=\"/Snoteanc/downloadFile?module=005&amp;fn=1554082085161.pdf\">檔案下載</a>\n </font>\n </td>\n </tr>\n <tr>\n <td>\n <font size=\"2\">2017</font>\n </td>\n <td>\n <font size=\"2\">財務報告</font>\n </td>\n <td>\n <font size=\"2\">\n <a href=\"/Snoteanc/downloadFile?module=005&amp;fn=1523255125463.zip\">檔案下載</a>\n </font>\n </td>\n </tr>\n <tr>\n <td>\n <font size=\"2\">2016</font>\n </td>\n <td>\n <font size=\"2\">財務報告</font>\n </td>\n <td>\n <font size=\"2\">\n <a href=\"/Snoteanc/downloadFile?module=005&amp;fn=1489972788022.zip\">檔案下載</a>\n </font>\n </td>\n </tr>\n <tr>\n <td>\n <font size=\"2\">2015</font>\n </td>\n <td>\n <font size=\"2\">財務報告</font>\n </td>\n <td>\n <font size=\"2\">\n <a href=\"/Snoteanc/downloadFile?module=005&amp;fn=1458528163443.zip\">檔案下載</a>\n </font>\n </td>\n </tr>\n <tr>\n <td>\n <font size=\"2\">2014</font>\n </td>\n <td>\n <font size=\"2\">財務報告</font>\n </td>\n <td>\n <font size=\"2\">\n <a href=\"/Snoteanc/downloadFile?module=005&amp;fn=1431912874818.zip\">檔案下載</a>\n </font>\n </td>\n </tr>\n <tr>\n <td>\n <font size=\"2\">2013</font>\n </td>\n <td>\n <font size=\"2\">財務報告</font>\n </td>\n <td>\n <font size=\"2\">\n <a href=\"/Snoteanc/downloadFile?module=005&amp;fn=1399886921191.pdf\">檔案下載</a>\n </font>\n </td>\n </tr>\n </tbody></table>\n </td>\n </tr>\n </tbody></table>\n </td>\n </tr>\n <tr>\n </tr>\n </tbody></table>,\n <table border=\"1\" bordercolor=\"#D9B55C\" cellpadding=\"5\" cellspacing=\"0\" class=\"tc-maintxt10\" width=\"100%\">\n <tbody><tr>\n <td align=\"center\" colspan=\"4\" style=\"background-color:#f9e4b3;\">\n <strong>\n                             商品名稱<br/>\n                              10個月期美元計價每日觸發及逐步調降自動強制贖回股權連結結構型商品（無擔保及無保證機構） \n                         </strong>\n </td>\n </tr>\n <tr>\n <td colspan=\"4\"><strong><font size=\"2\">商品公開資訊</font></strong></td>\n </tr>\n <tr>\n <td align=\"right\" style=\"background-color:#f9e4b3;\" width=\"25%\"><div align=\"center\"><strong><font size=\"2\">開始受理贖回日期</font></strong></div></td>\n <td class=\"tc-maintxt10\"><font size=\"2\" width=\"25%\"> </font></td>\n <td align=\"right\" style=\"background-color:#f9e4b3;\" width=\"25%\"><div align=\"center\"><strong><font size=\"2\">每營業日受理贖回截止時間</font></strong></div></td>\n <td class=\"tc-maintxt10\"><font size=\"2\" width=\"25%\"> </font></td>\n </tr>\n <tr>\n <td style=\"background-color:#f9e4b3;\"><div align=\"center\"><strong><font size=\"2\">中文產品說明書/投資人須知及其分送方式或取閱地點</font></strong></div></td>\n <td class=\"tc-maintxt10\" colspan=\"3\"><font size=\"2\"> </font></td>\n </tr>\n <tr>\n <td style=\"background-color:#f9e4b3;\"><div align=\"center\"><strong><font size=\"2\">投資風險警語</font></strong></div></td>\n <td class=\"tc-maintxt10\" colspan=\"3\"><font size=\"2\"> </font></td>\n </tr>\n <tr>\n <td align=\"center\" colspan=\"4\">\n <table border=\"1\" bordercolor=\"#D9B55C\" cellpadding=\"5\" cellspacing=\"0\" width=\"50%\">\n <tbody><tr>\n <td align=\"center\" style=\"background-color:#f9e4b3;\"><strong><font size=\"2\">資料日期</font></strong></td>\n <td align=\"center\" style=\"background-color:#f9e4b3;\"><strong><font size=\"2\">資料類別</font></strong></td>\n <td align=\"center\" style=\"background-color:#f9e4b3;\"><strong><font size=\"2\">檔案下載</font></strong></td>\n </tr>\n <tr>\n <td>\n <font size=\"2\">2022</font>\n </td>\n <td>\n <font size=\"2\">財務報告</font>\n </td>\n <td>\n <font size=\"2\">\n <a href=\"/Snoteanc/downloadFile?module=005&amp;fn=1681110830363.zip\">檔案下載</a>\n </font>\n </td>\n </tr>\n <tr>\n <td>\n <font size=\"2\">2021</font>\n </td>\n <td>\n <font size=\"2\">財務報告</font>\n </td>\n <td>\n <font size=\"2\">\n <a href=\"/Snoteanc/downloadFile?module=005&amp;fn=1649641593307.zip\">檔案下載</a>\n </font>\n </td>\n </tr>\n <tr>\n <td>\n <font size=\"2\">2020</font>\n </td>\n <td>\n <font size=\"2\">財務報告</font>\n </td>\n <td>\n <font size=\"2\">\n <a href=\"/Snoteanc/downloadFile?module=005&amp;fn=1615773862332.zip\">檔案下載</a>\n </font>\n </td>\n </tr>\n <tr>\n <td>\n <font size=\"2\">2019</font>\n </td>\n <td>\n <font size=\"2\">財務報告</font>\n </td>\n <td>\n <font size=\"2\">\n <a href=\"/Snoteanc/downloadFile?module=005&amp;fn=1585542207618.zip\">檔案下載</a>\n </font>\n </td>\n </tr>\n <tr>\n <td>\n <font size=\"2\">2018</font>\n </td>\n <td>\n <font size=\"2\">財務報告</font>\n </td>\n <td>\n <font size=\"2\">\n <a href=\"/Snoteanc/downloadFile?module=005&amp;fn=1554082085161.pdf\">檔案下載</a>\n </font>\n </td>\n </tr>\n <tr>\n <td>\n <font size=\"2\">2017</font>\n </td>\n <td>\n <font size=\"2\">財務報告</font>\n </td>\n <td>\n <font size=\"2\">\n <a href=\"/Snoteanc/downloadFile?module=005&amp;fn=1523255125463.zip\">檔案下載</a>\n </font>\n </td>\n </tr>\n <tr>\n <td>\n <font size=\"2\">2016</font>\n </td>\n <td>\n <font size=\"2\">財務報告</font>\n </td>\n <td>\n <font size=\"2\">\n <a href=\"/Snoteanc/downloadFile?module=005&amp;fn=1489972788022.zip\">檔案下載</a>\n </font>\n </td>\n </tr>\n <tr>\n <td>\n <font size=\"2\">2015</font>\n </td>\n <td>\n <font size=\"2\">財務報告</font>\n </td>\n <td>\n <font size=\"2\">\n <a href=\"/Snoteanc/downloadFile?module=005&amp;fn=1458528163443.zip\">檔案下載</a>\n </font>\n </td>\n </tr>\n <tr>\n <td>\n <font size=\"2\">2014</font>\n </td>\n <td>\n <font size=\"2\">財務報告</font>\n </td>\n <td>\n <font size=\"2\">\n <a href=\"/Snoteanc/downloadFile?module=005&amp;fn=1431912874818.zip\">檔案下載</a>\n </font>\n </td>\n </tr>\n <tr>\n <td>\n <font size=\"2\">2013</font>\n </td>\n <td>\n <font size=\"2\">財務報告</font>\n </td>\n <td>\n <font size=\"2\">\n <a href=\"/Snoteanc/downloadFile?module=005&amp;fn=1399886921191.pdf\">檔案下載</a>\n </font>\n </td>\n </tr>\n </tbody></table>\n </td>\n </tr>\n </tbody></table>,\n <table border=\"1\" bordercolor=\"#D9B55C\" cellpadding=\"5\" cellspacing=\"0\" width=\"50%\">\n <tbody><tr>\n <td align=\"center\" style=\"background-color:#f9e4b3;\"><strong><font size=\"2\">資料日期</font></strong></td>\n <td align=\"center\" style=\"background-color:#f9e4b3;\"><strong><font size=\"2\">資料類別</font></strong></td>\n <td align=\"center\" style=\"background-color:#f9e4b3;\"><strong><font size=\"2\">檔案下載</font></strong></td>\n </tr>\n <tr>\n <td>\n <font size=\"2\">2022</font>\n </td>\n <td>\n <font size=\"2\">財務報告</font>\n </td>\n <td>\n <font size=\"2\">\n <a href=\"/Snoteanc/downloadFile?module=005&amp;fn=1681110830363.zip\">檔案下載</a>\n </font>\n </td>\n </tr>\n <tr>\n <td>\n <font size=\"2\">2021</font>\n </td>\n <td>\n <font size=\"2\">財務報告</font>\n </td>\n <td>\n <font size=\"2\">\n <a href=\"/Snoteanc/downloadFile?module=005&amp;fn=1649641593307.zip\">檔案下載</a>\n </font>\n </td>\n </tr>\n <tr>\n <td>\n <font size=\"2\">2020</font>\n </td>\n <td>\n <font size=\"2\">財務報告</font>\n </td>\n <td>\n <font size=\"2\">\n <a href=\"/Snoteanc/downloadFile?module=005&amp;fn=1615773862332.zip\">檔案下載</a>\n </font>\n </td>\n </tr>\n <tr>\n <td>\n <font size=\"2\">2019</font>\n </td>\n <td>\n <font size=\"2\">財務報告</font>\n </td>\n <td>\n <font size=\"2\">\n <a href=\"/Snoteanc/downloadFile?module=005&amp;fn=1585542207618.zip\">檔案下載</a>\n </font>\n </td>\n </tr>\n <tr>\n <td>\n <font size=\"2\">2018</font>\n </td>\n <td>\n <font size=\"2\">財務報告</font>\n </td>\n <td>\n <font size=\"2\">\n <a href=\"/Snoteanc/downloadFile?module=005&amp;fn=1554082085161.pdf\">檔案下載</a>\n </font>\n </td>\n </tr>\n <tr>\n <td>\n <font size=\"2\">2017</font>\n </td>\n <td>\n <font size=\"2\">財務報告</font>\n </td>\n <td>\n <font size=\"2\">\n <a href=\"/Snoteanc/downloadFile?module=005&amp;fn=1523255125463.zip\">檔案下載</a>\n </font>\n </td>\n </tr>\n <tr>\n <td>\n <font size=\"2\">2016</font>\n </td>\n <td>\n <font size=\"2\">財務報告</font>\n </td>\n <td>\n <font size=\"2\">\n <a href=\"/Snoteanc/downloadFile?module=005&amp;fn=1489972788022.zip\">檔案下載</a>\n </font>\n </td>\n </tr>\n <tr>\n <td>\n <font size=\"2\">2015</font>\n </td>\n <td>\n <font size=\"2\">財務報告</font>\n </td>\n <td>\n <font size=\"2\">\n <a href=\"/Snoteanc/downloadFile?module=005&amp;fn=1458528163443.zip\">檔案下載</a>\n </font>\n </td>\n </tr>\n <tr>\n <td>\n <font size=\"2\">2014</font>\n </td>\n <td>\n <font size=\"2\">財務報告</font>\n </td>\n <td>\n <font size=\"2\">\n <a href=\"/Snoteanc/downloadFile?module=005&amp;fn=1431912874818.zip\">檔案下載</a>\n </font>\n </td>\n </tr>\n <tr>\n <td>\n <font size=\"2\">2013</font>\n </td>\n <td>\n <font size=\"2\">財務報告</font>\n </td>\n <td>\n <font size=\"2\">\n <a href=\"/Snoteanc/downloadFile?module=005&amp;fn=1399886921191.pdf\">檔案下載</a>\n </font>\n </td>\n </tr>\n </tbody></table>,\n <table border=\"0\" cellpadding=\"0\" cellspacing=\"0\" width=\"100%\">\n <tbody><tr>\n <td>\n <table border=\"1\" bordercolor=\"#D9B55C\" cellpadding=\"5\" cellspacing=\"0\" class=\"tc-maintxt10\" width=\"100%\">\n <tbody><tr>\n <td align=\"center\" colspan=\"4\" style=\"background-color:#f9e4b3;\">\n <strong>\n                             商品名稱<br/>\n                              10個月期美元計價每日觸發及逐步調降自動強制贖回股權連結結構型商品（無擔保及無保證機構） \n                         </strong>\n </td>\n </tr>\n <tr>\n <td colspan=\"4\"><strong><font size=\"2\">商品公告資訊</font></strong></td>\n </tr>\n <tr>\n <td style=\"background-color:#f9e4b3;\" width=\"25%\"><div align=\"center\"><strong><font size=\"2\">協助辦理投資人權益保護之方式</font></strong></div></td>\n <td class=\"tc-maintxt10\" colspan=\"3\"><font size=\"2\"> </font></td>\n </tr>\n <tr>\n <td style=\"background-color:#f9e4b3;\"><div align=\"center\"><strong><font size=\"2\">金融總會規定應行揭露事項</font></strong></div></td>\n <td class=\"tc-maintxt10\" colspan=\"3\"><font size=\"2\"> </font></td>\n </tr>\n <tr>\n <td style=\"background-color:#f9e4b3;\"><div align=\"center\"><strong><font size=\"2\">其他為保護公益及投資人之必要應揭露事項</font></strong></div></td>\n <td class=\"tc-maintxt10\" colspan=\"3\"><font size=\"2\"> </font></td>\n </tr>\n </tbody></table>\n </td>\n </tr>\n </tbody></table>,\n <table border=\"1\" bordercolor=\"#D9B55C\" cellpadding=\"5\" cellspacing=\"0\" class=\"tc-maintxt10\" width=\"100%\">\n <tbody><tr>\n <td align=\"center\" colspan=\"4\" style=\"background-color:#f9e4b3;\">\n <strong>\n                             商品名稱<br/>\n                              10個月期美元計價每日觸發及逐步調降自動強制贖回股權連結結構型商品（無擔保及無保證機構） \n                         </strong>\n </td>\n </tr>\n <tr>\n <td colspan=\"4\"><strong><font size=\"2\">商品公告資訊</font></strong></td>\n </tr>\n <tr>\n <td style=\"background-color:#f9e4b3;\" width=\"25%\"><div align=\"center\"><strong><font size=\"2\">協助辦理投資人權益保護之方式</font></strong></div></td>\n <td class=\"tc-maintxt10\" colspan=\"3\"><font size=\"2\"> </font></td>\n </tr>\n <tr>\n <td style=\"background-color:#f9e4b3;\"><div align=\"center\"><strong><font size=\"2\">金融總會規定應行揭露事項</font></strong></div></td>\n <td class=\"tc-maintxt10\" colspan=\"3\"><font size=\"2\"> </font></td>\n </tr>\n <tr>\n <td style=\"background-color:#f9e4b3;\"><div align=\"center\"><strong><font size=\"2\">其他為保護公益及投資人之必要應揭露事項</font></strong></div></td>\n <td class=\"tc-maintxt10\" colspan=\"3\"><font size=\"2\"> </font></td>\n </tr>\n </tbody></table>,\n <table border=\"0\" cellpadding=\"0\" cellspacing=\"0\" width=\"100%\">\n <tbody><tr>\n <td>\n <table border=\"1\" bordercolor=\"#D9B55C\" cellpadding=\"5\" cellspacing=\"0\" width=\"100%\">\n <tbody><tr>\n <td align=\"center\" colspan=\"4\" style=\"background-color:#f9e4b3;\">\n <strong> 10個月期美元計價每日觸發及逐步調降自動強制贖回股權連結結構型商品（無擔保及無保證機構）</strong><br/>\n <font color=\"blue\"><strong>10-Month USD Daily Knock-in and Step-Down Auto Callable EquityLinked Notes</strong></font>\n <br/>\n </td>\n </tr>\n <tr>\n <td colspan=\"4\"><strong><font size=\"2\">配息資訊(前三年及本年度之資料)</font></strong></td>\n </tr>\n <tr>\n <td align=\"center\" style=\"background-color:#f9e4b3;\" width=\"50%\"><strong><font size=\"2\">配息日</font></strong></td>\n <td align=\"center\" style=\"background-color:#f9e4b3;\" width=\"50%\"><strong><font size=\"2\">配息率</font></strong></td>\n </tr>\n <tr>\n <td align=\"center\" colspan=\"4\"><font size=\"2\">配息警語: </font></td>\n </tr>\n <tr>\n <td colspan=\"4\"><strong><font size=\"2\">參考價格資訊(最近三十天之資料)</font></strong><br/>\n <table border=\"1\" bordercolor=\"#D9B55C\" cellpadding=\"5\" cellspacing=\"0\" width=\"50%\">\n <tbody><tr>\n <td align=\"center\" style=\"background-color:#f9e4b3;\"><strong><font size=\"2\">日期</font></strong></td>\n <td align=\"center\" style=\"background-color:#f9e4b3;\"><strong><font size=\"2\">參考價格</font></strong></td>\n </tr>\n <tr>\n <td align=\"center\" colspan=\"2\"><font size=\"2\">參考價格報價警語:特定金錢信託投資境外結構型商品(連動債)之參考價格說明及注意事項:\n 1.以上參考價格資訊由發行人/總代理人提供，僅供參考。實際提前贖回(如適用)價格仍以實際成交價為準。\n 2.境外結構型商品參考價值之計算=投資本金金額X(參考價格%)。參考價格已扣除已配發之配息（如有），但尚未扣除提前贖回手續費（如有）或相關費用（如有）。\n 3.境外結構型商品(連動債)未發生發行機構違約之狀況下，發行機構於到期日時，將依商品之產品條件支付到期金額。投資人(委託人)如提前贖回時，則須以贖回當時之實際成交價格贖回，且可能會導致信託本金之損失或匯率損失。\n 4.投資人(委託人)以特定金錢信託方式投資境外結構型商品(連動債)時，本行(星展(台灣)商業銀行股份有限公司)係依據投資人(委託人)之運用指示，由本行以受託人名義代委託人與交易相對人進行該筆投資交易。投資人申購境外結構型商品所交付本行之款項為特定金錢信託投資資金，並非存款且不受存款保險保障，本行不擔保信託業務之管理或運用績效，委託人或受益人應自負盈虧。\n  </font></td>\n </tr>\n </tbody></table>\n </td>\n </tr>\n </tbody></table>\n </td><td>\n </td></tr>\n </tbody></table>,\n <table border=\"1\" bordercolor=\"#D9B55C\" cellpadding=\"5\" cellspacing=\"0\" width=\"100%\">\n <tbody><tr>\n <td align=\"center\" colspan=\"4\" style=\"background-color:#f9e4b3;\">\n <strong> 10個月期美元計價每日觸發及逐步調降自動強制贖回股權連結結構型商品（無擔保及無保證機構）</strong><br/>\n <font color=\"blue\"><strong>10-Month USD Daily Knock-in and Step-Down Auto Callable EquityLinked Notes</strong></font>\n <br/>\n </td>\n </tr>\n <tr>\n <td colspan=\"4\"><strong><font size=\"2\">配息資訊(前三年及本年度之資料)</font></strong></td>\n </tr>\n <tr>\n <td align=\"center\" style=\"background-color:#f9e4b3;\" width=\"50%\"><strong><font size=\"2\">配息日</font></strong></td>\n <td align=\"center\" style=\"background-color:#f9e4b3;\" width=\"50%\"><strong><font size=\"2\">配息率</font></strong></td>\n </tr>\n <tr>\n <td align=\"center\" colspan=\"4\"><font size=\"2\">配息警語: </font></td>\n </tr>\n <tr>\n <td colspan=\"4\"><strong><font size=\"2\">參考價格資訊(最近三十天之資料)</font></strong><br/>\n <table border=\"1\" bordercolor=\"#D9B55C\" cellpadding=\"5\" cellspacing=\"0\" width=\"50%\">\n <tbody><tr>\n <td align=\"center\" style=\"background-color:#f9e4b3;\"><strong><font size=\"2\">日期</font></strong></td>\n <td align=\"center\" style=\"background-color:#f9e4b3;\"><strong><font size=\"2\">參考價格</font></strong></td>\n </tr>\n <tr>\n <td align=\"center\" colspan=\"2\"><font size=\"2\">參考價格報價警語:特定金錢信託投資境外結構型商品(連動債)之參考價格說明及注意事項:\n 1.以上參考價格資訊由發行人/總代理人提供，僅供參考。實際提前贖回(如適用)價格仍以實際成交價為準。\n 2.境外結構型商品參考價值之計算=投資本金金額X(參考價格%)。參考價格已扣除已配發之配息（如有），但尚未扣除提前贖回手續費（如有）或相關費用（如有）。\n 3.境外結構型商品(連動債)未發生發行機構違約之狀況下，發行機構於到期日時，將依商品之產品條件支付到期金額。投資人(委託人)如提前贖回時，則須以贖回當時之實際成交價格贖回，且可能會導致信託本金之損失或匯率損失。\n 4.投資人(委託人)以特定金錢信託方式投資境外結構型商品(連動債)時，本行(星展(台灣)商業銀行股份有限公司)係依據投資人(委託人)之運用指示，由本行以受託人名義代委託人與交易相對人進行該筆投資交易。投資人申購境外結構型商品所交付本行之款項為特定金錢信託投資資金，並非存款且不受存款保險保障，本行不擔保信託業務之管理或運用績效，委託人或受益人應自負盈虧。\n  </font></td>\n </tr>\n </tbody></table>\n </td>\n </tr>\n </tbody></table>,\n <table border=\"1\" bordercolor=\"#D9B55C\" cellpadding=\"5\" cellspacing=\"0\" width=\"50%\">\n <tbody><tr>\n <td align=\"center\" style=\"background-color:#f9e4b3;\"><strong><font size=\"2\">日期</font></strong></td>\n <td align=\"center\" style=\"background-color:#f9e4b3;\"><strong><font size=\"2\">參考價格</font></strong></td>\n </tr>\n <tr>\n <td align=\"center\" colspan=\"2\"><font size=\"2\">參考價格報價警語:特定金錢信託投資境外結構型商品(連動債)之參考價格說明及注意事項:\n 1.以上參考價格資訊由發行人/總代理人提供，僅供參考。實際提前贖回(如適用)價格仍以實際成交價為準。\n 2.境外結構型商品參考價值之計算=投資本金金額X(參考價格%)。參考價格已扣除已配發之配息（如有），但尚未扣除提前贖回手續費（如有）或相關費用（如有）。\n 3.境外結構型商品(連動債)未發生發行機構違約之狀況下，發行機構於到期日時，將依商品之產品條件支付到期金額。投資人(委託人)如提前贖回時，則須以贖回當時之實際成交價格贖回，且可能會導致信託本金之損失或匯率損失。\n 4.投資人(委託人)以特定金錢信託方式投資境外結構型商品(連動債)時，本行(星展(台灣)商業銀行股份有限公司)係依據投資人(委託人)之運用指示，由本行以受託人名義代委託人與交易相對人進行該筆投資交易。投資人申購境外結構型商品所交付本行之款項為特定金錢信託投資資金，並非存款且不受存款保險保障，本行不擔保信託業務之管理或運用績效，委託人或受益人應自負盈虧。\n  </font></td>\n </tr>\n </tbody></table>]"
     },
     "execution_count": 90,
     "metadata": {},
     "output_type": "execute_result"
    }
   ],
   "source": [
    "soup_3 = BeautifulSoup(driver.page_source, \"html.parser\")\n",
    "tables_2 = soup_3.find_all('table')\n",
    "tables_2"
   ],
   "metadata": {
    "collapsed": false,
    "ExecuteTime": {
     "end_time": "2023-09-07T12:23:14.272170900Z",
     "start_time": "2023-09-07T12:23:14.137951500Z"
    }
   },
   "id": "4db7eac1daf0b2a4"
  },
  {
   "cell_type": "code",
   "execution_count": 91,
   "outputs": [],
   "source": [
    "second_table_2 = tables_2[2]"
   ],
   "metadata": {
    "collapsed": false,
    "ExecuteTime": {
     "end_time": "2023-09-07T12:23:14.274377300Z",
     "start_time": "2023-09-07T12:23:14.271570400Z"
    }
   },
   "id": "b64c56b0891afd52"
  },
  {
   "cell_type": "code",
   "execution_count": 92,
   "outputs": [],
   "source": [
    "# 找到表格行\n",
    "rows_2 = second_table_2.find_all('tr')\n",
    "\n",
    "# 初始化一个空的列表来存储数据\n",
    "data_2 = []\n",
    "\n",
    "# 遍历表格行\n",
    "for row in rows_2:\n",
    "    # 找到表格数据单元格\n",
    "    cells = row.find_all('td')\n",
    "    \n",
    "    # 提取每个单元格的文本内容并添加到数据列表\n",
    "    row_data = [cell.get_text(strip=True) for cell in cells]\n",
    "    data_2.append(row_data)"
   ],
   "metadata": {
    "collapsed": false,
    "ExecuteTime": {
     "end_time": "2023-09-07T12:23:14.290139900Z",
     "start_time": "2023-09-07T12:23:14.274377300Z"
    }
   },
   "id": "861325270f2c0e2c"
  },
  {
   "cell_type": "code",
   "execution_count": 93,
   "outputs": [],
   "source": [
    "data_1 = data_2[3][1]"
   ],
   "metadata": {
    "collapsed": false,
    "ExecuteTime": {
     "end_time": "2023-09-07T12:23:14.310367Z",
     "start_time": "2023-09-07T12:23:14.278948700Z"
    }
   },
   "id": "7d75a1794d309313"
  },
  {
   "cell_type": "code",
   "execution_count": 94,
   "outputs": [
    {
     "data": {
      "text/plain": "['10-Month USD Daily Knock-in and Step-Down Auto Callable EquityLinked Notes']"
     },
     "execution_count": 94,
     "metadata": {},
     "output_type": "execute_result"
    }
   ],
   "source": [
    "data_en_list = []\n",
    "data_en_list.append(data_1)\n",
    "data_en_list"
   ],
   "metadata": {
    "collapsed": false,
    "ExecuteTime": {
     "end_time": "2023-09-07T12:23:17.169392200Z",
     "start_time": "2023-09-07T12:23:17.153679400Z"
    }
   },
   "id": "2452d179a29a7a92"
  },
  {
   "cell_type": "code",
   "execution_count": 95,
   "outputs": [],
   "source": [
    "driver.close()"
   ],
   "metadata": {
    "collapsed": false,
    "ExecuteTime": {
     "end_time": "2023-09-07T12:23:18.168852600Z",
     "start_time": "2023-09-07T12:23:18.099164100Z"
    }
   },
   "id": "959b8abc3b6cd8b7"
  },
  {
   "cell_type": "code",
   "execution_count": 96,
   "outputs": [],
   "source": [
    "driver.switch_to.window(all_window_handles[0])"
   ],
   "metadata": {
    "collapsed": false,
    "ExecuteTime": {
     "end_time": "2023-09-07T12:23:19.443735700Z",
     "start_time": "2023-09-07T12:23:19.433221600Z"
    }
   },
   "id": "ba4bb496c10af4f9"
  },
  {
   "cell_type": "code",
   "execution_count": 97,
   "outputs": [],
   "source": [
    "driver.switch_to.frame(\"mainFrame\")"
   ],
   "metadata": {
    "collapsed": false,
    "ExecuteTime": {
     "end_time": "2023-09-07T12:23:22.212382Z",
     "start_time": "2023-09-07T12:23:22.178362700Z"
    }
   },
   "id": "ede175586657bb06"
  },
  {
   "cell_type": "code",
   "execution_count": 71,
   "outputs": [],
   "source": [
    "element_4 = driver.find_element(By.XPATH, \"/html/body/form/table/tbody/tr[7]/td[2]/table/tbody/tr[3]/td[2]/font/u\")"
   ],
   "metadata": {
    "collapsed": false,
    "ExecuteTime": {
     "end_time": "2023-09-07T12:19:04.894046300Z",
     "start_time": "2023-09-07T12:19:04.869869Z"
    }
   },
   "id": "e238cb82b2060cfe"
  },
  {
   "cell_type": "code",
   "execution_count": null,
   "outputs": [],
   "source": [
    "/html/body/form/table/tbody/tr[7]/td[2]/table/tbody/tr[52]/td[2]/font/u"
   ],
   "metadata": {
    "collapsed": false
   },
   "id": "53fb4df928cdda6c"
  }
 ],
 "metadata": {
  "kernelspec": {
   "display_name": "Python 3",
   "language": "python",
   "name": "python3"
  },
  "language_info": {
   "codemirror_mode": {
    "name": "ipython",
    "version": 2
   },
   "file_extension": ".py",
   "mimetype": "text/x-python",
   "name": "python",
   "nbconvert_exporter": "python",
   "pygments_lexer": "ipython2",
   "version": "2.7.6"
  }
 },
 "nbformat": 4,
 "nbformat_minor": 5
}
