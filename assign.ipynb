{
 "cells": [
  {
   "cell_type": "code",
   "execution_count": 1,
   "metadata": {
    "collapsed": true
   },
   "outputs": [
    {
     "ename": "NameError",
     "evalue": "name 'data' is not defined",
     "output_type": "error",
     "traceback": [
      "\u001B[1;31m---------------------------------------------------------------------------\u001B[0m",
      "\u001B[1;31mNameError\u001B[0m                                 Traceback (most recent call last)",
      "\u001B[1;32m~\\AppData\\Local\\Temp\\ipykernel_11656\\676904507.py\u001B[0m in \u001B[0;36m<module>\u001B[1;34m\u001B[0m\n\u001B[1;32m----> 1\u001B[1;33m (data\n\u001B[0m\u001B[0;32m      2\u001B[0m  .assign(class_format = np.select(\n\u001B[0;32m      3\u001B[0m      \u001B[1;33m[\u001B[0m\u001B[0mdata\u001B[0m\u001B[1;33m[\u001B[0m\u001B[1;34m\"format_ol\"\u001B[0m\u001B[1;33m]\u001B[0m\u001B[1;33m.\u001B[0m\u001B[0mastype\u001B[0m\u001B[1;33m(\u001B[0m\u001B[0mbool\u001B[0m\u001B[1;33m)\u001B[0m\u001B[1;33m,\u001B[0m \u001B[0mdata\u001B[0m\u001B[1;33m[\u001B[0m\u001B[1;34m\"format_blended\"\u001B[0m\u001B[1;33m]\u001B[0m\u001B[1;33m.\u001B[0m\u001B[0mastype\u001B[0m\u001B[1;33m(\u001B[0m\u001B[0mbool\u001B[0m\u001B[1;33m)\u001B[0m\u001B[1;33m]\u001B[0m\u001B[1;33m,\u001B[0m\u001B[1;33m\u001B[0m\u001B[1;33m\u001B[0m\u001B[0m\n\u001B[0;32m      4\u001B[0m      \u001B[1;33m[\u001B[0m\u001B[1;34m\"online\"\u001B[0m\u001B[1;33m,\u001B[0m \u001B[1;34m\"blended\"\u001B[0m\u001B[1;33m]\u001B[0m\u001B[1;33m,\u001B[0m\u001B[1;33m\u001B[0m\u001B[1;33m\u001B[0m\u001B[0m\n\u001B[0;32m      5\u001B[0m      \u001B[0mdefault\u001B[0m\u001B[1;33m=\u001B[0m\u001B[1;34m\"face_to_face\"\u001B[0m\u001B[1;33m\u001B[0m\u001B[1;33m\u001B[0m\u001B[0m\n",
      "\u001B[1;31mNameError\u001B[0m: name 'data' is not defined"
     ]
    }
   ],
   "source": [
    "(data\n",
    " .assign(class_format = np.select(\n",
    "     [data[\"format_ol\"].astype(bool), data[\"format_blended\"].astype(bool)],\n",
    "     [\"online\", \"blended\"],\n",
    "     default=\"face_to_face\"\n",
    " ))\n",
    " .groupby([\"class_format\"])\n",
    " .mean())"
   ]
  },
  {
   "cell_type": "markdown",
   "source": [
    "1. `.assign(class_format = np.select([...], default=\"face_to_face\"))`：\n",
    "這一部分使用了 assign 方法，它在現有的資料集中新增一個名為 class_format 的新欄位。這個新欄位的值根據特定的條件，使用了 np.select 函式來指定。np.select 函式根據條件列表和對應的值列表，選擇符合條件的值並填充到 class_format 欄位。在這個例子中，有兩個條件：\n",
    "* 如果 data[\"format_ol\"] 欄位的值轉換成布林值後為真，則將對應的 class_format 值設定為 \"online\"。\n",
    "* 如果 data[\"format_blended\"] 欄位的值轉換成布林值後為真，則將對應的 class_format 值設定為 \"blended\"。\n",
    "如果以上兩個條件都不滿足，則將 class_format 值設定為預設值 \"face_to_face\"。\n",
    "2. .groupby([\"class_format\"])：\n",
    "這一部分使用了 groupby 方法，它將資料按照 class_format 欄位的值進行分組。\n",
    "\n",
    "3. .mean()：\n",
    "最後，使用 mean 方法計算每個分組中數值型欄位的平均值。這裡沒有顯示具體的數值欄位，但該方法將應用於這些數值型欄位，並返回每個分組中這些數值的平均值。\n",
    "\n",
    "總之，這段程式碼的主要目的是根據 format_ol 和 format_blended 欄位的條件，為 data 資料集新增一個 class_format 欄位，然後根據這個新欄位對資料進行分組，最後計算每個分組中數值型欄位的平均值。"
   ],
   "metadata": {
    "collapsed": false
   }
  }
 ],
 "metadata": {
  "kernelspec": {
   "display_name": "Python 3",
   "language": "python",
   "name": "python3"
  },
  "language_info": {
   "codemirror_mode": {
    "name": "ipython",
    "version": 2
   },
   "file_extension": ".py",
   "mimetype": "text/x-python",
   "name": "python",
   "nbconvert_exporter": "python",
   "pygments_lexer": "ipython2",
   "version": "2.7.6"
  }
 },
 "nbformat": 4,
 "nbformat_minor": 0
}
